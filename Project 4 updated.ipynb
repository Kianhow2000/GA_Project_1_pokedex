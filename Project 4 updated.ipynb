{
 "cells": [
  {
   "cell_type": "markdown",
   "metadata": {},
   "source": [
    "## QUESTION 1: Factors that impact salary\n",
    "-  Data was scrapped from website, approx 1000+ rows"
   ]
  },
  {
   "cell_type": "markdown",
   "metadata": {},
   "source": [
    "### [Import and Load] "
   ]
  },
  {
   "cell_type": "code",
   "execution_count": 1,
   "metadata": {},
   "outputs": [],
   "source": [
    "#Imports\n",
    "import numpy as np\n",
    "import pandas as pd\n",
    "import matplotlib.pyplot as plt\n",
    "import seaborn as sns\n",
    "%matplotlib inline"
   ]
  },
  {
   "cell_type": "code",
   "execution_count": 2,
   "metadata": {},
   "outputs": [],
   "source": [
    "#Load file\n",
    "df =pd.read_csv('cf.csv')"
   ]
  },
  {
   "cell_type": "markdown",
   "metadata": {},
   "source": [
    "### [EDA]\n",
    "- Check if there are duplicates\n",
    "-  NaN values\n",
    "- Columns which ar not useful"
   ]
  },
  {
   "cell_type": "code",
   "execution_count": 3,
   "metadata": {},
   "outputs": [
    {
     "data": {
      "text/html": [
       "<div>\n",
       "<style scoped>\n",
       "    .dataframe tbody tr th:only-of-type {\n",
       "        vertical-align: middle;\n",
       "    }\n",
       "\n",
       "    .dataframe tbody tr th {\n",
       "        vertical-align: top;\n",
       "    }\n",
       "\n",
       "    .dataframe thead th {\n",
       "        text-align: right;\n",
       "    }\n",
       "</style>\n",
       "<table border=\"1\" class=\"dataframe\">\n",
       "  <thead>\n",
       "    <tr style=\"text-align: right;\">\n",
       "      <th></th>\n",
       "      <th>Unnamed: 0</th>\n",
       "      <th>Company</th>\n",
       "      <th>Title</th>\n",
       "      <th>Address</th>\n",
       "      <th>Emp_type</th>\n",
       "      <th>Seniority</th>\n",
       "      <th>Industry</th>\n",
       "      <th>Salary</th>\n",
       "      <th>Responsibility</th>\n",
       "      <th>Requirements</th>\n",
       "    </tr>\n",
       "  </thead>\n",
       "  <tbody>\n",
       "    <tr>\n",
       "      <th>0</th>\n",
       "      <td>0</td>\n",
       "      <td>SKILLSFUTURE SINGAPORE AGENCY</td>\n",
       "      <td>Executive, (Quality Management Division) (6-mo...</td>\n",
       "      <td>ONE MARINA BOULEVARD, 1 MARINA BOULEVARD 018989</td>\n",
       "      <td>Contract</td>\n",
       "      <td>NONE</td>\n",
       "      <td>Public / Civil Service</td>\n",
       "      <td>NONE</td>\n",
       "      <td>Roles &amp; ResponsibilitiesResponsibilities\\r\\n\\r...</td>\n",
       "      <td>NONE</td>\n",
       "    </tr>\n",
       "    <tr>\n",
       "      <th>1</th>\n",
       "      <td>1</td>\n",
       "      <td>HP PPS ASIA PACIFIC PTE. LTD.</td>\n",
       "      <td>Business Analyst</td>\n",
       "      <td>1 DEPOT CLOSE 109841</td>\n",
       "      <td>Permanent, Full Time</td>\n",
       "      <td>Professional</td>\n",
       "      <td>Others</td>\n",
       "      <td>$8,400to$12,900</td>\n",
       "      <td>Roles &amp; ResponsibilitiesHP is the world’s lead...</td>\n",
       "      <td>RequirementsEducation and Experience Required:...</td>\n",
       "    </tr>\n",
       "    <tr>\n",
       "      <th>2</th>\n",
       "      <td>2</td>\n",
       "      <td>SHOPEE SINGAPORE PRIVATE LIMITED</td>\n",
       "      <td>Software Engineer</td>\n",
       "      <td>GALAXIS, 1 FUSIONOPOLIS PLACE 138522</td>\n",
       "      <td>Permanent, Full Time</td>\n",
       "      <td>Executive</td>\n",
       "      <td>Information Technology</td>\n",
       "      <td>$4,400to$8,000</td>\n",
       "      <td>Roles &amp; ResponsibilitiesResponsibilities:   De...</td>\n",
       "      <td>RequirementsRequirements:   Minimum B.S. degre...</td>\n",
       "    </tr>\n",
       "    <tr>\n",
       "      <th>3</th>\n",
       "      <td>3</td>\n",
       "      <td>PRICEWATERHOUSECOOPERS CONSULTING (SINGAPORE) ...</td>\n",
       "      <td>Data Analytics –Manager</td>\n",
       "      <td>MARINA ONE EAST TOWER, 7 STRAITS VIEW 018936</td>\n",
       "      <td>Permanent, Contract, Full Time</td>\n",
       "      <td>Manager</td>\n",
       "      <td>Consulting</td>\n",
       "      <td>$6,200to$9,500</td>\n",
       "      <td>Roles &amp; Responsibilities Advisory - Consulting...</td>\n",
       "      <td>Requirements  A good Degree in a quantitative ...</td>\n",
       "    </tr>\n",
       "    <tr>\n",
       "      <th>4</th>\n",
       "      <td>4</td>\n",
       "      <td>Company Undisclosed</td>\n",
       "      <td>Research Fellow</td>\n",
       "      <td>NONE</td>\n",
       "      <td>Contract, Full Time</td>\n",
       "      <td>Professional, Executive</td>\n",
       "      <td>Others</td>\n",
       "      <td>$4,000to$5,000</td>\n",
       "      <td>Roles &amp; ResponsibilitiesData Scientist / Progr...</td>\n",
       "      <td>Requirements Doctorate degree in a relevant fi...</td>\n",
       "    </tr>\n",
       "  </tbody>\n",
       "</table>\n",
       "</div>"
      ],
      "text/plain": [
       "   Unnamed: 0                                            Company  \\\n",
       "0           0                      SKILLSFUTURE SINGAPORE AGENCY   \n",
       "1           1                      HP PPS ASIA PACIFIC PTE. LTD.   \n",
       "2           2                   SHOPEE SINGAPORE PRIVATE LIMITED   \n",
       "3           3  PRICEWATERHOUSECOOPERS CONSULTING (SINGAPORE) ...   \n",
       "4           4                                Company Undisclosed   \n",
       "\n",
       "                                               Title  \\\n",
       "0  Executive, (Quality Management Division) (6-mo...   \n",
       "1                                   Business Analyst   \n",
       "2                                  Software Engineer   \n",
       "3                            Data Analytics –Manager   \n",
       "4                                    Research Fellow   \n",
       "\n",
       "                                           Address  \\\n",
       "0  ONE MARINA BOULEVARD, 1 MARINA BOULEVARD 018989   \n",
       "1                             1 DEPOT CLOSE 109841   \n",
       "2             GALAXIS, 1 FUSIONOPOLIS PLACE 138522   \n",
       "3     MARINA ONE EAST TOWER, 7 STRAITS VIEW 018936   \n",
       "4                                             NONE   \n",
       "\n",
       "                         Emp_type                Seniority  \\\n",
       "0                        Contract                     NONE   \n",
       "1            Permanent, Full Time             Professional   \n",
       "2            Permanent, Full Time                Executive   \n",
       "3  Permanent, Contract, Full Time                  Manager   \n",
       "4             Contract, Full Time  Professional, Executive   \n",
       "\n",
       "                 Industry           Salary  \\\n",
       "0  Public / Civil Service             NONE   \n",
       "1                  Others  $8,400to$12,900   \n",
       "2  Information Technology   $4,400to$8,000   \n",
       "3             Consulting    $6,200to$9,500   \n",
       "4                  Others   $4,000to$5,000   \n",
       "\n",
       "                                      Responsibility  \\\n",
       "0  Roles & ResponsibilitiesResponsibilities\\r\\n\\r...   \n",
       "1  Roles & ResponsibilitiesHP is the world’s lead...   \n",
       "2  Roles & ResponsibilitiesResponsibilities:   De...   \n",
       "3  Roles & Responsibilities Advisory - Consulting...   \n",
       "4  Roles & ResponsibilitiesData Scientist / Progr...   \n",
       "\n",
       "                                        Requirements  \n",
       "0                                               NONE  \n",
       "1  RequirementsEducation and Experience Required:...  \n",
       "2  RequirementsRequirements:   Minimum B.S. degre...  \n",
       "3  Requirements  A good Degree in a quantitative ...  \n",
       "4  Requirements Doctorate degree in a relevant fi...  "
      ]
     },
     "execution_count": 3,
     "metadata": {},
     "output_type": "execute_result"
    }
   ],
   "source": [
    "#Check first 5 rows\n",
    "df.head()"
   ]
  },
  {
   "cell_type": "code",
   "execution_count": 4,
   "metadata": {},
   "outputs": [],
   "source": [
    "#Drop first column\n",
    "df.drop('Unnamed: 0', axis =1 ,inplace =True)"
   ]
  },
  {
   "cell_type": "code",
   "execution_count": 5,
   "metadata": {},
   "outputs": [
    {
     "data": {
      "text/plain": [
       "(1627, 9)"
      ]
     },
     "execution_count": 5,
     "metadata": {},
     "output_type": "execute_result"
    }
   ],
   "source": [
    "#Check shape after dropping first column\n",
    "df.shape"
   ]
  },
  {
   "cell_type": "code",
   "execution_count": 6,
   "metadata": {},
   "outputs": [
    {
     "data": {
      "text/plain": [
       "214"
      ]
     },
     "execution_count": 6,
     "metadata": {},
     "output_type": "execute_result"
    }
   ],
   "source": [
    "#Check for duplicated rows\n",
    "df.duplicated().sum()"
   ]
  },
  {
   "cell_type": "code",
   "execution_count": 7,
   "metadata": {},
   "outputs": [],
   "source": [
    "#Drop the duplicates\n",
    "df.drop_duplicates(inplace =True)"
   ]
  },
  {
   "cell_type": "code",
   "execution_count": 8,
   "metadata": {},
   "outputs": [
    {
     "data": {
      "text/plain": [
       "(1413, 9)"
      ]
     },
     "execution_count": 8,
     "metadata": {},
     "output_type": "execute_result"
    }
   ],
   "source": [
    "#Check shape after checking for duplicates\n",
    "df.shape"
   ]
  },
  {
   "cell_type": "code",
   "execution_count": 9,
   "metadata": {},
   "outputs": [
    {
     "data": {
      "text/plain": [
       "Company           0\n",
       "Title             0\n",
       "Address           0\n",
       "Emp_type          0\n",
       "Seniority         0\n",
       "Industry          0\n",
       "Salary            0\n",
       "Responsibility    0\n",
       "Requirements      0\n",
       "dtype: int64"
      ]
     },
     "execution_count": 9,
     "metadata": {},
     "output_type": "execute_result"
    }
   ],
   "source": [
    "#Check if they are any nan values\n",
    "df.isna().sum()"
   ]
  },
  {
   "cell_type": "code",
   "execution_count": 10,
   "metadata": {},
   "outputs": [],
   "source": [
    "#Drop rows where salary  = none as it is not useful for us\n",
    "df = df[df['Salary'] !=\"NONE\"]"
   ]
  },
  {
   "cell_type": "code",
   "execution_count": 11,
   "metadata": {},
   "outputs": [
    {
     "name": "stdout",
     "output_type": "stream",
     "text": [
      "current df shape:  (1246, 9)\n"
     ]
    }
   ],
   "source": [
    "print 'current df shape: ',df.shape"
   ]
  },
  {
   "cell_type": "markdown",
   "metadata": {},
   "source": [
    "### [SALARY COLUMN]\n",
    "-  We need to remove $ signs and also separate out the lower bound and upper bound of salary\n",
    "-  Scrapped data may contain yearly and monthly salary, thus we need to clean that as well"
   ]
  },
  {
   "cell_type": "code",
   "execution_count": 12,
   "metadata": {},
   "outputs": [],
   "source": [
    "#Split the salary into upper or lower bound\n",
    "df['lower_bound'] = df['Salary'].apply(lambda x: x.replace('$','').replace(',','').split('to')[0])\n",
    "df['upper_bound'] = df['Salary'].apply(lambda x: x.replace('$','').replace(',','').split('to')[1])\n",
    "\n",
    "#Change them to numeric\n",
    "df['lower_bound'] = df['lower_bound'].astype('int')\n",
    "df['upper_bound'] = df['upper_bound'].astype('int')\n",
    "\n",
    "#Combine both and take mean\n",
    "df['mean_salary'] = (df['lower_bound'] + df['upper_bound'])/2"
   ]
  },
  {
   "cell_type": "code",
   "execution_count": 13,
   "metadata": {},
   "outputs": [
    {
     "name": "stdout",
     "output_type": "stream",
     "text": [
      "count      1246.000000\n",
      "mean       9315.684992\n",
      "std       17810.283889\n",
      "min           1.000000\n",
      "25%        5000.000000\n",
      "50%        6500.000000\n",
      "75%        9000.000000\n",
      "max      300000.000000\n",
      "Name: mean_salary, dtype: float64\n"
     ]
    }
   ],
   "source": [
    "print df['mean_salary'].describe()"
   ]
  },
  {
   "cell_type": "code",
   "execution_count": 14,
   "metadata": {},
   "outputs": [
    {
     "data": {
      "image/png": "[encoded data removed]",
      "text/plain": [
       "<matplotlib.figure.Figure at 0xbdde358>"
      ]
     },
     "metadata": {},
     "output_type": "display_data"
    }
   ],
   "source": [
    "#Plot distribution of salary\n",
    "sns.distplot(df['mean_salary'], kde = False)\n",
    "plt.title('Mean _Salary($)')\n",
    "plt.ylabel('Counts');"
   ]
  },
  {
   "cell_type": "code",
   "execution_count": 15,
   "metadata": {},
   "outputs": [
    {
     "name": "stdout",
     "output_type": "stream",
     "text": [
      "count     1246.000000\n",
      "mean      6880.997191\n",
      "std       2776.568210\n",
      "min          1.000000\n",
      "25%       4900.000000\n",
      "50%       6475.000000\n",
      "75%       8500.000000\n",
      "max      24999.500000\n",
      "Name: mean_salary, dtype: float64\n"
     ]
    }
   ],
   "source": [
    "#Clean rows as some may be yearly salary, divide them by 12 then.\n",
    "\n",
    "df['lower_bound'] = df['lower_bound'].map(lambda x: (x/12) if x >=18000 else x)\n",
    "df['upper_bound'] = df['upper_bound'].map(lambda x: (x/12) if x >=18000 else x)\n",
    "df['mean_salary'] = (df['lower_bound'] + df['upper_bound'])/2\n",
    "print df['mean_salary'].describe()"
   ]
  },
  {
   "cell_type": "code",
   "execution_count": 16,
   "metadata": {},
   "outputs": [
    {
     "data": {
      "text/html": [
       "<div>\n",
       "<style scoped>\n",
       "    .dataframe tbody tr th:only-of-type {\n",
       "        vertical-align: middle;\n",
       "    }\n",
       "\n",
       "    .dataframe tbody tr th {\n",
       "        vertical-align: top;\n",
       "    }\n",
       "\n",
       "    .dataframe thead th {\n",
       "        text-align: right;\n",
       "    }\n",
       "</style>\n",
       "<table border=\"1\" class=\"dataframe\">\n",
       "  <thead>\n",
       "    <tr style=\"text-align: right;\">\n",
       "      <th></th>\n",
       "      <th>Company</th>\n",
       "      <th>Title</th>\n",
       "      <th>Address</th>\n",
       "      <th>Emp_type</th>\n",
       "      <th>Seniority</th>\n",
       "      <th>Industry</th>\n",
       "      <th>Salary</th>\n",
       "      <th>Responsibility</th>\n",
       "      <th>Requirements</th>\n",
       "      <th>lower_bound</th>\n",
       "      <th>upper_bound</th>\n",
       "      <th>mean_salary</th>\n",
       "    </tr>\n",
       "  </thead>\n",
       "  <tbody>\n",
       "    <tr>\n",
       "      <th>267</th>\n",
       "      <td>HNWI PRIVATE LIMITED</td>\n",
       "      <td>Digital Marketing Manager (1 Year Part Time Co...</td>\n",
       "      <td>SINGAPORE LAND TOWER, 50 RAFFLES PLACE 048623</td>\n",
       "      <td>Part Time, Flexi work</td>\n",
       "      <td>Manager</td>\n",
       "      <td>Marketing / Public Relations</td>\n",
       "      <td>$1to$8,000</td>\n",
       "      <td>Roles &amp; Responsibilities  Apply this job via t...</td>\n",
       "      <td>Requirements  Job Application Process  If you ...</td>\n",
       "      <td>1</td>\n",
       "      <td>8000</td>\n",
       "      <td>4000.5</td>\n",
       "    </tr>\n",
       "    <tr>\n",
       "      <th>983</th>\n",
       "      <td>HILTI ASIA PACIFIC PTE. LTD.</td>\n",
       "      <td>Territory Planning Expert</td>\n",
       "      <td>PSA VISTA, 20 HARBOUR DRIVE 117612</td>\n",
       "      <td>Permanent</td>\n",
       "      <td>Senior Executive</td>\n",
       "      <td>Risk Management</td>\n",
       "      <td>$5to$8,500</td>\n",
       "      <td>Roles &amp; ResponsibilitiesYour Responsibilities ...</td>\n",
       "      <td>RequirementsFunctional Expertise    Bachelor’s...</td>\n",
       "      <td>5</td>\n",
       "      <td>8500</td>\n",
       "      <td>4252.5</td>\n",
       "    </tr>\n",
       "    <tr>\n",
       "      <th>1622</th>\n",
       "      <td>SGTech</td>\n",
       "      <td>information technology</td>\n",
       "      <td>79 AYER RAJAH CRESCENT 139955</td>\n",
       "      <td>Part Time, Permanent, Temporary, Contract, Fle...</td>\n",
       "      <td>Manager, Fresh/entry level, Executive, Junior ...</td>\n",
       "      <td>Engineering, Information Technology, Others, S...</td>\n",
       "      <td>$1to$1</td>\n",
       "      <td>Roles &amp; ResponsibilitiesTalentGuru (www.talent...</td>\n",
       "      <td>RequirementsFor more details, visit talentguru...</td>\n",
       "      <td>1</td>\n",
       "      <td>1</td>\n",
       "      <td>1.0</td>\n",
       "    </tr>\n",
       "  </tbody>\n",
       "</table>\n",
       "</div>"
      ],
      "text/plain": [
       "                           Company  \\\n",
       "267           HNWI PRIVATE LIMITED   \n",
       "983   HILTI ASIA PACIFIC PTE. LTD.   \n",
       "1622                        SGTech   \n",
       "\n",
       "                                                  Title  \\\n",
       "267   Digital Marketing Manager (1 Year Part Time Co...   \n",
       "983                           Territory Planning Expert   \n",
       "1622                             information technology   \n",
       "\n",
       "                                            Address  \\\n",
       "267   SINGAPORE LAND TOWER, 50 RAFFLES PLACE 048623   \n",
       "983              PSA VISTA, 20 HARBOUR DRIVE 117612   \n",
       "1622                  79 AYER RAJAH CRESCENT 139955   \n",
       "\n",
       "                                               Emp_type  \\\n",
       "267                               Part Time, Flexi work   \n",
       "983                                           Permanent   \n",
       "1622  Part Time, Permanent, Temporary, Contract, Fle...   \n",
       "\n",
       "                                              Seniority  \\\n",
       "267                                             Manager   \n",
       "983                                    Senior Executive   \n",
       "1622  Manager, Fresh/entry level, Executive, Junior ...   \n",
       "\n",
       "                                               Industry      Salary  \\\n",
       "267                       Marketing / Public Relations   $1to$8,000   \n",
       "983                                     Risk Management  $5to$8,500   \n",
       "1622  Engineering, Information Technology, Others, S...      $1to$1   \n",
       "\n",
       "                                         Responsibility  \\\n",
       "267   Roles & Responsibilities  Apply this job via t...   \n",
       "983   Roles & ResponsibilitiesYour Responsibilities ...   \n",
       "1622  Roles & ResponsibilitiesTalentGuru (www.talent...   \n",
       "\n",
       "                                           Requirements  lower_bound  \\\n",
       "267   Requirements  Job Application Process  If you ...            1   \n",
       "983   RequirementsFunctional Expertise    Bachelor’s...            5   \n",
       "1622  RequirementsFor more details, visit talentguru...            1   \n",
       "\n",
       "      upper_bound  mean_salary  \n",
       "267          8000       4000.5  \n",
       "983          8500       4252.5  \n",
       "1622            1          1.0  "
      ]
     },
     "execution_count": 16,
     "metadata": {},
     "output_type": "execute_result"
    }
   ],
   "source": [
    "#Check for weird values,like how can min salary be $1?\n",
    "df[df['lower_bound']<100]"
   ]
  },
  {
   "cell_type": "code",
   "execution_count": 17,
   "metadata": {},
   "outputs": [],
   "source": [
    "#Drop those values, since only 3 values\n",
    "df = df.drop(df[df['lower_bound']<100].index)"
   ]
  },
  {
   "cell_type": "code",
   "execution_count": 18,
   "metadata": {},
   "outputs": [
    {
     "data": {
      "image/png": "[encoded data removed]",
      "text/plain": [
       "<matplotlib.figure.Figure at 0xc02feb8>"
      ]
     },
     "metadata": {},
     "output_type": "display_data"
    }
   ],
   "source": [
    "#Check to see if there are outliers\n",
    "sns.boxplot(df['mean_salary']);"
   ]
  },
  {
   "cell_type": "code",
   "execution_count": 19,
   "metadata": {},
   "outputs": [
    {
     "name": "stdout",
     "output_type": "stream",
     "text": [
      "Remove rows where salary < than: $-375.0\n",
      "Remove rows where salary > than: $13825.0\n"
     ]
    }
   ],
   "source": [
    "#Find the interquntile range\n",
    "q75, q25 = np.percentile(df['mean_salary'], [75 ,25])\n",
    "iqr = q75 - q25\n",
    "min_q = q25 - (iqr*1.5)\n",
    "max_q= q75 + (iqr*1.5)\n",
    "\n",
    "print 'Remove rows where salary < than: ${}'.format(min_q)\n",
    "print 'Remove rows where salary > than: ${}'.format(max_q)"
   ]
  },
  {
   "cell_type": "code",
   "execution_count": 20,
   "metadata": {},
   "outputs": [],
   "source": [
    "#Remove outliers\n",
    "df = df[df['mean_salary'] < 13825]"
   ]
  },
  {
   "cell_type": "code",
   "execution_count": 21,
   "metadata": {},
   "outputs": [
    {
     "data": {
      "image/png": "[encoded data removed]",
      "text/plain": [
       "<matplotlib.figure.Figure at 0xbfbecf8>"
      ]
     },
     "metadata": {},
     "output_type": "display_data"
    }
   ],
   "source": [
    "#Plot distribution again\n",
    "sns.distplot(df['mean_salary'],kde =False)\n",
    "plt.title('Mean _Salary($)')\n",
    "plt.ylabel('Counts');"
   ]
  },
  {
   "cell_type": "markdown",
   "metadata": {},
   "source": [
    "### [EMPLOYMENT TYPE COLUMN]\n",
    "-  Try to separate out the distinct types of employment types\n",
    "-  Also, remove interships as we are not interested in them"
   ]
  },
  {
   "cell_type": "code",
   "execution_count": 22,
   "metadata": {},
   "outputs": [
    {
     "data": {
      "text/plain": [
       "['Permanent, Full Time',\n",
       " 'Permanent, Contract, Full Time',\n",
       " 'Contract, Full Time',\n",
       " 'Full Time',\n",
       " 'Permanent',\n",
       " 'Contract',\n",
       " 'Part Time, Full Time, Internship',\n",
       " 'Permanent, Contract',\n",
       " 'Part Time, Contract',\n",
       " 'Contract, Freelance, Full Time, Flexi work',\n",
       " 'Temporary, Contract',\n",
       " 'Part Time, Permanent, Internship',\n",
       " 'Internship',\n",
       " 'Part Time',\n",
       " 'Temporary, Contract, Full Time',\n",
       " 'Part Time, Temporary, Contract, Full Time, Flexi work',\n",
       " 'Temporary']"
      ]
     },
     "execution_count": 22,
     "metadata": {},
     "output_type": "execute_result"
    }
   ],
   "source": [
    "#Check for employment types and clean them\n",
    "df['Emp_type'].unique().tolist()"
   ]
  },
  {
   "cell_type": "code",
   "execution_count": 23,
   "metadata": {},
   "outputs": [],
   "source": [
    "#Check which rows contain intership\n",
    "df[df['Emp_type'].str.contains('Internship')]\n",
    "\n",
    "#Drop those emptype that only contains internship\n",
    "df = df[df['Emp_type'] != 'Internship']"
   ]
  },
  {
   "cell_type": "code",
   "execution_count": 24,
   "metadata": {},
   "outputs": [],
   "source": [
    "df[df['Emp_type'].str.contains('Flexi work')] #only 1 remove them as due to it being insignificant category\n",
    "\n",
    "df[df['Emp_type'].str.contains('Freelance')] #only 1 remove them as due to it being insignificant category\n",
    "\n",
    "df[df['Emp_type'].str.contains('Internship')] #We remove them as we are not looking at interns\n",
    "\n",
    "df[df['Emp_type'].str.contains('Temporary')] #only 5 remove them as due to it being insignificant category\n",
    "\n",
    "\n",
    "#Thus remove Flexiwork \n",
    "df['Emp_type'] = df['Emp_type'].apply(lambda x: x.replace(', Flexi work',''))\n",
    "\n",
    "#Thus remove Freelance \n",
    "df['Emp_type'] = df['Emp_type'].apply(lambda x: x.replace('Freelance,',''))\n",
    "\n",
    "\n",
    "#Thus remove internship \n",
    "df['Emp_type'] = df['Emp_type'].apply(lambda x: x.replace(', Internship',''))\n",
    "\n",
    "#Thus remove Temporary\n",
    "df = df[df['Emp_type'] != 'Temporary'] #Drop the row which has only temporary as a category\n",
    "df['Emp_type'] = df['Emp_type'].apply(lambda x: x.replace('Temporary, ','')) #Remove temporary as a category from list of categories that contain it\n",
    "\n",
    "#Merge full and time , part and time togther for further processing for countvectorizer ltr\n",
    "df['Emp_type'] = df['Emp_type'].apply(lambda x: x.replace('Part Time','PartTime'))\n",
    "df['Emp_type'] = df['Emp_type'].apply(lambda x: x.replace('Full Time','FullTime'))\n",
    "\n",
    "#This will leave us with a variation of [Permanent,Contract],[FullTime, PartTime]\n",
    "#We can create columns and encode them"
   ]
  },
  {
   "cell_type": "code",
   "execution_count": 25,
   "metadata": {},
   "outputs": [
    {
     "data": {
      "text/html": [
       "<div>\n",
       "<style scoped>\n",
       "    .dataframe tbody tr th:only-of-type {\n",
       "        vertical-align: middle;\n",
       "    }\n",
       "\n",
       "    .dataframe tbody tr th {\n",
       "        vertical-align: top;\n",
       "    }\n",
       "\n",
       "    .dataframe thead th {\n",
       "        text-align: right;\n",
       "    }\n",
       "</style>\n",
       "<table border=\"1\" class=\"dataframe\">\n",
       "  <thead>\n",
       "    <tr style=\"text-align: right;\">\n",
       "      <th></th>\n",
       "      <th>contract</th>\n",
       "      <th>fulltime</th>\n",
       "      <th>parttime</th>\n",
       "      <th>permanent</th>\n",
       "    </tr>\n",
       "  </thead>\n",
       "  <tbody>\n",
       "    <tr>\n",
       "      <th>0</th>\n",
       "      <td>0</td>\n",
       "      <td>1</td>\n",
       "      <td>0</td>\n",
       "      <td>1</td>\n",
       "    </tr>\n",
       "    <tr>\n",
       "      <th>1</th>\n",
       "      <td>0</td>\n",
       "      <td>1</td>\n",
       "      <td>0</td>\n",
       "      <td>1</td>\n",
       "    </tr>\n",
       "    <tr>\n",
       "      <th>2</th>\n",
       "      <td>1</td>\n",
       "      <td>1</td>\n",
       "      <td>0</td>\n",
       "      <td>1</td>\n",
       "    </tr>\n",
       "    <tr>\n",
       "      <th>3</th>\n",
       "      <td>1</td>\n",
       "      <td>1</td>\n",
       "      <td>0</td>\n",
       "      <td>0</td>\n",
       "    </tr>\n",
       "    <tr>\n",
       "      <th>4</th>\n",
       "      <td>0</td>\n",
       "      <td>1</td>\n",
       "      <td>0</td>\n",
       "      <td>0</td>\n",
       "    </tr>\n",
       "  </tbody>\n",
       "</table>\n",
       "</div>"
      ],
      "text/plain": [
       "   contract  fulltime  parttime  permanent\n",
       "0         0         1         0          1\n",
       "1         0         1         0          1\n",
       "2         1         1         0          1\n",
       "3         1         1         0          0\n",
       "4         0         1         0          0"
      ]
     },
     "execution_count": 25,
     "metadata": {},
     "output_type": "execute_result"
    }
   ],
   "source": [
    "#Use count vectorizer to encode the columns of employment type\n",
    "emp_type = df['Emp_type']\n",
    "\n",
    "#import\n",
    "from sklearn.feature_extraction.text import CountVectorizer\n",
    "\n",
    "#initilaize \n",
    "cvec = CountVectorizer()\n",
    "\n",
    "#Fit transform, make to dense so that it returns a matrix\n",
    "cvec_matrix = cvec.fit_transform(emp_type).todense()\n",
    "\n",
    "#Return feature names\n",
    "cvec_columns= cvec.get_feature_names()\n",
    "cvec_columns\n",
    "\n",
    "#Make into dataframe\n",
    "emp_type_df =pd.DataFrame(cvec_matrix, columns = cvec_columns)\n",
    "emp_type_df.head()"
   ]
  },
  {
   "cell_type": "markdown",
   "metadata": {},
   "source": [
    "### [INDUSTRY COLUMN]\n",
    "-  Try to separate out the unqiue industries\n",
    "-  After checking, We decided to bin into top industries where industries occuring less than 5% are binned into others"
   ]
  },
  {
   "cell_type": "code",
   "execution_count": 26,
   "metadata": {},
   "outputs": [
    {
     "name": "stdout",
     "output_type": "stream",
     "text": [
      "Initial Industry list(top 20)\n",
      " ----------------------------\n",
      "Information Technology                                 416\n",
      "Banking and Finance                                    164\n",
      "Sciences / Laboratory / R&D                             62\n",
      "Engineering                                             61\n",
      "Others                                                  55\n",
      "Consulting                                              51\n",
      "Marketing / Public Relations                            51\n",
      "Advertising / Media                                     38\n",
      "Banking and Finance, Information Technology             32\n",
      "Human Resources                                         24\n",
      "Accounting / Auditing / Taxation                        20\n",
      "Education and Training                                  16\n",
      "Engineering, Manufacturing                              11\n",
      "Logistics / Supply Chain                                11\n",
      "Education and Training, Public / Civil Service          11\n",
      "Engineering, Information Technology                     11\n",
      "Sales / Retail                                          10\n",
      "Advertising / Media , Marketing / Public Relations       8\n",
      "Professional Services                                    8\n",
      "Healthcare / Pharmaceutical                              7\n",
      "Name: Industry, dtype: int64\n"
     ]
    }
   ],
   "source": [
    "#Check out how many unique industries are there\n",
    "df['Industry'].unique()\n",
    "\n",
    "print 'Initial Industry list(top 20)'\n",
    "print ' ----------------------------'\n",
    "print df['Industry'].value_counts().head(20)\n",
    "##There seems to be too many unqiues for our dataset, whcih would introduce more noise than signal,lets whittle them down\n",
    "##by order of top 10 industries, starting from Banking.(I did not start from IT as i believe its more general)\n",
    "#Note i tried coutn vectorizer but it did not work as well, Hence im trying feature engineering\n",
    "\n",
    "df.loc[df['Industry'].str.contains('Banking|Finance'),'Industry'] = 'Banking, Finance'\n",
    "df.loc[df['Industry'].str.contains(('Sciences|Laboratory | R&D')),'Industry'] = 'Science, Research'\n",
    "df.loc[df['Industry'].str.contains(('Engineering')),'Industry'] = 'Engineering'\n",
    "df.loc[df['Industry'].str.contains(('Marketing|Public Realtions')),'Industry'] = 'Marketing, Public Relations'\n",
    "df.loc[df['Industry'].str.contains(('Consulting')),'Industry'] = 'Consulting'\n",
    "df.loc[df['Industry'].str.contains(('Advertising|Media Relations')),'Industry'] = 'Media and Advertising'\n",
    "df.loc[df['Industry'].str.contains(('Accounting')),'Industry'] = 'Accounting'\n",
    "df.loc[df['Industry'].str.contains(('Education|Public / Civil Service')),'Industry'] = 'Education, Public / Civil Service'\n",
    "df.loc[df['Industry'].str.contains(('Information Technology')),'Industry'] = 'Information Technology'"
   ]
  },
  {
   "cell_type": "code",
   "execution_count": 27,
   "metadata": {},
   "outputs": [
    {
     "name": "stdout",
     "output_type": "stream",
     "text": [
      "Feature Engineered List\n",
      " ----------------------------\n",
      "Information Technology         435\n",
      "Others                         256\n",
      "Banking, Finance               227\n",
      "Engineering                     93\n",
      "Marketing, Public Relations     76\n",
      "Science, Research               73\n",
      "Consulting                      68\n",
      "Name: Industry, dtype: int64\n"
     ]
    },
    {
     "data": {
      "image/png": "[encoded data removed]",
      "text/plain": [
       "<matplotlib.figure.Figure at 0xd2ddda0>"
      ]
     },
     "metadata": {},
     "output_type": "display_data"
    }
   ],
   "source": [
    "ind_count = df['Industry'].value_counts()\n",
    "\n",
    "#Change values that appear less than 5% to 'others'\n",
    "low_counts = ind_count.index[ind_count < df.shape[0]*0.05]\n",
    "df.loc[df['Industry'].isin(low_counts), \"Industry\"] = 'Others'\n",
    "\n",
    "\n",
    "print 'Feature Engineered List'\n",
    "print ' ----------------------------'\n",
    "print df['Industry'].value_counts()\n",
    "\n",
    "#plot top Industries\n",
    "\n",
    "plot =  df['Industry'].value_counts()\n",
    "fig, ax = plt.subplots(figsize=(11,6))\n",
    "g = sns.barplot(plot.index, plot.values)\n",
    "g.set_xticklabels(g.get_xticklabels(), rotation=45)\n",
    "plt.title('Top Industries')\n",
    "plt.xlabel('Industries')\n",
    "plt.ylabel('Counts')\n",
    "plt.show();"
   ]
  },
  {
   "cell_type": "code",
   "execution_count": 28,
   "metadata": {},
   "outputs": [],
   "source": [
    "#make dummies\n",
    "industry_df = pd.get_dummies(df['Industry'])\n",
    "industry_df.shape\n",
    "\n",
    "#Reset the index\n",
    "industry_df = industry_df.reset_index(drop = True)"
   ]
  },
  {
   "cell_type": "markdown",
   "metadata": {},
   "source": [
    "### [SENIORITY TYPES COLUMN]\n",
    "-  Separate out into distinct seniority"
   ]
  },
  {
   "cell_type": "code",
   "execution_count": 29,
   "metadata": {},
   "outputs": [],
   "source": [
    "#Count frequency of the seniority\n",
    "df['Seniority'].unique().tolist()\n",
    "# for i in df['Seniority'].unique().tolist():\n",
    "#     print 'Count:', i, df[df['Seniority']== i]['Seniority'].count()\n",
    "    \n",
    "#Replace all blanks with '', so that easier for countvectorizer\n",
    "df['Seniority'] = df['Seniority'].apply(lambda x: x.replace(' ',''))\n",
    "\n",
    "#Remove '-' and '/' so that easier for countvectorizer\n",
    "df['Seniority'] = df['Seniority'].apply(lambda x: x.replace('-',''))\n",
    "df['Seniority'] = df['Seniority'].apply(lambda x: x.replace('/',''))"
   ]
  },
  {
   "cell_type": "code",
   "execution_count": 30,
   "metadata": {},
   "outputs": [
    {
     "data": {
      "image/png": "[encoded data removed]",
      "text/plain": [
       "<matplotlib.figure.Figure at 0xd1d7be0>"
      ]
     },
     "metadata": {},
     "output_type": "display_data"
    }
   ],
   "source": [
    "#Use count vectorizer to encode the columns of Seniority type\n",
    "seniority = df['Seniority']\n",
    "\n",
    "#import\n",
    "from sklearn.feature_extraction.text import CountVectorizer\n",
    "\n",
    "#initilaize \n",
    "snr_cvec = CountVectorizer(stop_words ='english')\n",
    "\n",
    "#Fit transform, make to dense so that it returns a matrix\n",
    "snr_cvec_matrix = snr_cvec.fit_transform(seniority).todense()\n",
    "\n",
    "#Return feature names\n",
    "snr_cvec_columns= snr_cvec.get_feature_names()\n",
    "\n",
    "#Make into dataframe\n",
    "seniority_df =pd.DataFrame(snr_cvec_matrix, columns = snr_cvec_columns)\n",
    "seniority_df.head()\n",
    "\n",
    "#plot seniority\n",
    "seniority = seniority_df.sum().sort_values(ascending = False)\n",
    "plot = pd.DataFrame(seniority)\n",
    "fig, ax = plt.subplots(figsize=(11,6))\n",
    "g = sns.barplot(plot.index, plot[0])\n",
    "g.set_xticklabels(g.get_xticklabels(), rotation=45)\n",
    "plt.title('Top seniority')\n",
    "plt.xlabel('seniority')\n",
    "plt.ylabel('Counts')\n",
    "plt.show();"
   ]
  },
  {
   "cell_type": "markdown",
   "metadata": {},
   "source": [
    "### [TITLE COLUMN]\n",
    "- Separate out into distinct titles\n",
    "- As we found that are too many titles, we identified top words in titles instead"
   ]
  },
  {
   "cell_type": "code",
   "execution_count": 31,
   "metadata": {},
   "outputs": [
    {
     "data": {
      "text/plain": [
       "['Business Analyst',\n",
       " 'Software Engineer',\n",
       " 'Data Analytics \\xe2\\x80\\x93Manager',\n",
       " 'Research Fellow',\n",
       " 'Application Support Analyst, Reference Data Team',\n",
       " 'CyberSecurity Business Resiliency Analyst and Coordinator, Vice President',\n",
       " 'Software Engineer (Ref 21711)',\n",
       " 'Murex Technical Migration Consultant',\n",
       " 'Analytics Director',\n",
       " 'Senior Business Analyst',\n",
       " 'Senior Engineer, DCIM ( Data Center Infrastructure Management )',\n",
       " 'Digital Relationship Manager',\n",
       " 'Associate, Compliance, Conflicts of Interest & Conduct Monitoring',\n",
       " 'Associate Director',\n",
       " 'System Analyst (GIS)',\n",
       " 'Research Engineer (Human Language Technology)  /  I2R (A*STAR)',\n",
       " 'Copywriter',\n",
       " 'BII - Research Officer (Machine Learning and Computational Biology)',\n",
       " 'Cloud Solution Architect',\n",
       " 'Junior Backend Developer',\n",
       " 'BAU Analyst and Support',\n",
       " 'Web Designer',\n",
       " 'IT Business Analyst (Cyber Security,IAM)',\n",
       " 'Business Intelligence (Qlikview) Executive',\n",
       " 'High-Performance Data Engineer',\n",
       " 'Research Assistant',\n",
       " 'Executive Assistant',\n",
       " 'Finance Manager, Procurement (Cash Value Partnering)',\n",
       " 'Martech Executive',\n",
       " 'Digital Marketing Executive',\n",
       " 'Business Analyst- Funds Transfer Pricing',\n",
       " 'Senior Business & Testing Analyst',\n",
       " 'Digital Analyst',\n",
       " 'Sales Manager',\n",
       " 'Senior Financial Analyst for solar applications, power markets',\n",
       " 'Data Scientist',\n",
       " 'Senior Executive, Data Services',\n",
       " 'M&A Business Analyst',\n",
       " 'AI DATA VISUALIZATION ENGINEER',\n",
       " 'Director of Technology',\n",
       " 'Business Analyst - Scrum Master IT',\n",
       " 'Human Resource Executive',\n",
       " 'Associate, Visa Consulting & Analytics',\n",
       " 'AVP, Digital Banking, CBG & Corporate & Control Functions Audit Team, Group Audit(180002VW)',\n",
       " 'Commercial Support Analyst',\n",
       " 'Data Engineer',\n",
       " 'Data Analyst',\n",
       " 'Digital Business Analyst',\n",
       " 'Developer',\n",
       " 'SVP, ADA Technical Program Director, Grp Consumer Banking & Big Data Analytics Tech, T&O (180002YD)',\n",
       " 'Data Scientist  /  Customer Analyst x 5',\n",
       " 'Scientist (Data Analytics)  /  I2R (A*STAR)',\n",
       " 'Supply Chain Financing IT Business Analyst',\n",
       " 'Infrastructure Technical Specialist (Cloud Analytics)',\n",
       " 'HR Executive',\n",
       " 'Cybersecurity Engineer',\n",
       " 'Partner Marketing Cloud Products',\n",
       " 'Business Transformation Partner',\n",
       " 'Senior / Data Analyst (Data Science Team)',\n",
       " 'Business Analyst (Banking)',\n",
       " 'Software Engineer (AI Platform)',\n",
       " '*Senior Business Analyst',\n",
       " 'Enterprise Data Software Engineer',\n",
       " 'Pricing Specialist',\n",
       " 'Project Change Manager',\n",
       " 'Application Developer (2-year contract), Living Analytics Research Centre',\n",
       " 'Healthcare Associate, Innovation & Data Insights',\n",
       " 'Scientist (Augmented Reality Programme)  /  I2R (A*STAR)',\n",
       " 'Contract Staff (Snr), Program Director, CBG & Big Data Analytics Tech, T&O (180002M9)',\n",
       " 'Triple A Developer',\n",
       " 'Business Systems Analyst - SQL (Ref 22392)',\n",
       " \"Research Associate in Dept of Physiology, NUS (Prof H Yu's Lab)\",\n",
       " 'Project Officer',\n",
       " 'Data Science Senior Manager',\n",
       " 'Head of Demand, MoPub APAC (Singapore)',\n",
       " 'Research & Development - Data Scientist - Hair Care - Singapore',\n",
       " 'Business Analyst, Assistant to CEO (Family Office / New role / Orchard / $6000 - $8000)',\n",
       " 'VP / AVP, Business Analyst (Web / Mobile / Payments), Institutional Banking Group Tech, T&O (180000W8)',\n",
       " 'Managing Consultant',\n",
       " 'Business Integrity Associate',\n",
       " 'Business Analyst, Collaborative Application',\n",
       " 'Business Intelligence Analyst Developer',\n",
       " 'Senior Associates, People Advisory Services, Advisory, Singapore',\n",
       " 'VP - Hadoop Support Lead',\n",
       " 'Big Data SME / Lead',\n",
       " 'Business Development Manager',\n",
       " 'Data Scientist - Grab Financial',\n",
       " 'Assistant Vice President, Manager, Assistant Manager (Business Analytics), Commercial Banking',\n",
       " 'Senior Manager',\n",
       " 'AVP Data Analyst',\n",
       " 'Manager, Rapid Insights, Group Retail Analytics',\n",
       " 'Architect',\n",
       " 'Information Technology Business Analyst',\n",
       " 'AI DATA SCIENTIST (MACHINE COMPREHENSION)',\n",
       " 'Senior Business Intelligence Analyst',\n",
       " 'Recruiter (gTech) - Singapore',\n",
       " 'hr executive',\n",
       " 'Senior Manager, Indirect Tax , APTC, Singapore',\n",
       " 'Data Centre Operations Engineer',\n",
       " 'Risk Consulting (Transaction Monitoring) - Senior Associate',\n",
       " 'Market Data Business Analyst  /  Project Manager',\n",
       " 'Project Manager',\n",
       " 'Actuarial Executive',\n",
       " 'GCG - Big Data & Next Gen Analytics Deployment Head - 17073484',\n",
       " 'Healthcare Data Insights Analyst',\n",
       " 'LEAD ML ENGINEER',\n",
       " 'IT Business Analyst',\n",
       " 'Data centre operations engineer',\n",
       " 'Principal Software Engineer',\n",
       " 'DATA SCIENTIST',\n",
       " 'Operations Manager',\n",
       " 'Business Systems Analyst Lead - Java (Ref 22414)',\n",
       " 'Corporate Brand and Communication Manager',\n",
       " 'AVP  /  Snr Assoc, IBGT Platform Support \\xe2\\x80\\x93 Acct Mgmt Reporting, IBG Tech, T&O (180002JW)',\n",
       " 'Product Marketing Manager, Small and Medium Business - Singapore',\n",
       " 'Market and Customer Insights Lead',\n",
       " 'Business Analyst - Finance (Enterprise Performance Management Implementation)',\n",
       " 'Manager, Credit Scoring Methods and Systems',\n",
       " 'O&T - Senior Data & Analytics Technical Manager - Regulatory Projects - 18019080',\n",
       " 'Big Data Software Engineer',\n",
       " 'Cognos Project Manager',\n",
       " 'Systems Developer',\n",
       " 'Market Risk Analyst',\n",
       " 'Senior HR Reporting & Analytics Analyst',\n",
       " 'Research Officer (IID)  /  A*STAR',\n",
       " 'Process Control System Engineer',\n",
       " 'Business Analyst - Campaign Management',\n",
       " 'Business Analyst FIFM Risk',\n",
       " 'Quantitative Developer',\n",
       " 'Business Intelligence Finance Manager - Global Healthcare MNC',\n",
       " 'PAID MEDIA SPECIALIST',\n",
       " 'Site Reliability Engineer',\n",
       " 'Cyber Security Specialist AVP',\n",
       " 'Research Engineer (Data Analytics)  /  I2R (A*STAR)',\n",
       " 'Subject-Matter Expert - Trade and Supply Chain Finance',\n",
       " 'Associate  /  Senior Data Scientist',\n",
       " 'GST Associate  /  Senior',\n",
       " 'Senior Principal Business Consultant',\n",
       " 'Research Associate',\n",
       " 'Oilseeds Price Specialist (Agriculture)',\n",
       " 'Senior iOS Developer',\n",
       " 'Senior Data Analyst',\n",
       " 'Associate Consultant- Information Security',\n",
       " 'Expert Software Engineer',\n",
       " 'Vendor Operations Business Analyst - Singapore',\n",
       " 'Senior Business Consultant \\xe2\\x80\\x93 Financial Services',\n",
       " 'Software Developer',\n",
       " 'Applications Developer',\n",
       " 'Senior Software Engineer',\n",
       " 'Senior / Business Analyst',\n",
       " 'SCIENTIST (TCOMS)',\n",
       " 'Engineer',\n",
       " 'Senior Analyst - Advanced Analytics FP&A',\n",
       " 'Analyst, Data Science and Intelligence (1 Year Contract)',\n",
       " 'Lead Engineer, DCIM ( Data Centre Infrastucture Management)',\n",
       " 'SAS Development Lead',\n",
       " 'Actimize Business Analyst - AML (Anti Money Laundering)',\n",
       " 'Associate, Strategy, YouTube - Singapore',\n",
       " 'Financial /  Business Analyst',\n",
       " 'AVP, Mobile SME, Group Consumer Banking and Big Data Analytics Technology, T&O (180002OZ)',\n",
       " 'Teradata SME',\n",
       " 'Consultant - Security Lead',\n",
       " 'Business Analyst, Regulatory Reporting Technology, Associate',\n",
       " 'SVC Info Developer III',\n",
       " 'Marketing Analyst (Business Insights)',\n",
       " 'Senior /  Manager - Digital & Social Media',\n",
       " 'Regional Lead for Dotcom & Media',\n",
       " 'Contract Senior, Group Financial Control & Assurance, Group Finance (180002SO)',\n",
       " 'Manager, Financial Accounting Advisory Services, Assurance, Singapore',\n",
       " 'IT Audit Director',\n",
       " 'Data Scientist, APAC (Singapore)',\n",
       " 'PMO Analyst',\n",
       " 'Regional Business Development Manager',\n",
       " 'Research Scientist (18-month contract), School of Information Systems',\n",
       " 'Senior Business Analyst, Business Transformation',\n",
       " 'VP, Performance and Rewards',\n",
       " 'Robotics Engineer',\n",
       " 'Product Manager',\n",
       " 'Data Science and Analytics Consultants',\n",
       " 'Manager, Blockchain Assurance, Advisory, PI \\xe2\\x80\\x93 ITA',\n",
       " 'Vice President, Business Analyst - Data Services',\n",
       " 'Product Marketing Manager, Small and Medium Business Marketing, Online Acquisitions - Singapore',\n",
       " 'Senior Paid Search Specialist',\n",
       " 'ERP Business Analyst',\n",
       " 'VP, Digital Banking, CBG & Corporate & Control Functions Audit Team, Group Audit(180002VW)',\n",
       " 'Manager, Digital Planning and Strategy',\n",
       " 'Planner / Junior Planner',\n",
       " 'Finance Business Intelligence Analyst',\n",
       " 'Engagement Manager (APAC Market Insight)',\n",
       " 'Data Analytics, Team Leader',\n",
       " 'SAP Business Analyst',\n",
       " 'Admin / HR Executive',\n",
       " 'Business Strategic Planning',\n",
       " 'E-Business Deployment Specialist (MEAS_18000319)',\n",
       " 'APAC Business Analyst \\xe2\\x80\\x93 Specialty chemicals',\n",
       " 'Business Analyst / Project Manager \\xe2\\x80\\x93 12 Month Contract (Renewable)',\n",
       " 'Deals Data Analytics Manager',\n",
       " 'SAP BW and HANA Consultant',\n",
       " 'Executive, Market Outreach and Insights',\n",
       " 'Digital Marketing',\n",
       " 'Associate Product Marketing Manager, Consumer - Singapore',\n",
       " 'VP, Data Scientist, Business Analytics, Consumer Banking Group (1800016V)',\n",
       " 'Senior Business Analyst (JD#4267)',\n",
       " 'Senior  /  Digital Analyst',\n",
       " 'Senior Finance and Business Analyst',\n",
       " 'System Engineer - Data Centre Automation',\n",
       " 'Senior  /  Principal Geospatial Specialist, Virtual Singapore',\n",
       " 'Software Engineer (Backend)',\n",
       " 'APAC Data Scientist',\n",
       " 'Digital Platform Specialist',\n",
       " 'Treasury Business Analyst',\n",
       " 'Agency Marketing Lead, Large Customer Marketing - Singapore',\n",
       " 'Assistant Vice President, Data Management Office',\n",
       " 'Scrum Master',\n",
       " 'Delegate Sales Executive',\n",
       " 'Senior Software Consultant',\n",
       " 'Solution architect',\n",
       " 'Visa Consulting & Analytics Manager',\n",
       " 'Digital Consultant - Manager, Advisory',\n",
       " 'Business Intelligence & Analytics',\n",
       " 'Forensic Technology & Discovery Services Senior Manager (Data Analytics), Assurance, Singapore',\n",
       " 'Quantitative Manager',\n",
       " 'Manager',\n",
       " 'BUSINESS INTELLIGENCE (BI) ANALYST',\n",
       " 'Research Engineer / Senior Research Engineer (ARTC,A*STAR)',\n",
       " 'Data Architect Manager',\n",
       " 'Datastage Consultant',\n",
       " 'Operational Risk Analytics (Contract till Dec 2018, Changi)',\n",
       " 'Lead BI Consultant (MS SQL SSIS) (Ref 22436)',\n",
       " 'GTM Programme Analyst',\n",
       " 'Planning Director',\n",
       " 'DATA ANALYST',\n",
       " 'Wealth Management, Synapse Lead Software Engineer, Vice President',\n",
       " 'Senior  /  Lead Consultant (Data Scientist)',\n",
       " 'APAC-Trade Business Analyst',\n",
       " 'Hadoop Support Analyst',\n",
       " 'Head of Customer Success, APAC (Singapore)',\n",
       " 'Advanced Software Engineer',\n",
       " 'Research Engineer',\n",
       " 'IT Director - $10K to $15K',\n",
       " 'Director',\n",
       " 'Rights & Licensing Sales Executive',\n",
       " 'Lead Business Analyst',\n",
       " 'Social Media Manager',\n",
       " 'Business Associate',\n",
       " 'Senior Project Coordinator (Special Projects)  /  I2R (A*STAR)',\n",
       " 'Scientist (IHPC)',\n",
       " 'Manager, Information Architecture',\n",
       " 'Workday Time Tracking  /  Recruiting Consultant (Higher Education)',\n",
       " 'Mechanical & Design Engineer, Graduate Program',\n",
       " 'Technical Architect',\n",
       " 'Software Technical Consultant',\n",
       " 'Research Engineer /  Senior Research Engineer (Infrastructure, Energy and Environment)  /  I2R (A*STAR)',\n",
       " 'Wealth Management, UI / UX Java Software Engineer, Associate',\n",
       " 'Threat Intel Technical Analyst Fusion, Associate',\n",
       " 'Senior Mobile Engineer',\n",
       " 'SIS Faculty - Assistant Professor of Information Systems (Eduction / Practice)',\n",
       " 'Senior  /  Consultant (Data Scientist)',\n",
       " 'Senior Software Engineer (Chief Data Office)',\n",
       " 'Supply Chain Analyst',\n",
       " 'Senior Associate - Data and Analytics, Advisory',\n",
       " 'QE Fault Detection / Data Engineer',\n",
       " 'Job Opening for Neoxam',\n",
       " 'Digital Marketing Executive / Manager',\n",
       " 'Scientist (Situational Awareness Analytics)  /  I2R (A*STAR)',\n",
       " 'Java Application Developer - Enterprise Application',\n",
       " 'Information Technology Project Manager',\n",
       " 'Digital Marketing Manager',\n",
       " 'Campaign Analytics Senior Analyst',\n",
       " 'Master Data Analyst',\n",
       " 'Electronics & Robotics Engineer, Graduate Program',\n",
       " 'Human Resource & Administrative Officer',\n",
       " 'Manager, Data Science',\n",
       " 'Analyst, Hadoop Support',\n",
       " 'Head of People Services',\n",
       " 'Business Analyst (BA)-Banking Experience',\n",
       " 'Digital Marketing, Manager / Asst Manager',\n",
       " 'Accenture Trading, Investments & Optimization Group [TIOS]  Strategy Manager',\n",
       " 'Director of Research',\n",
       " 'HR Fresher',\n",
       " 'Associates, People Advisory Services, Advisory, Singapore',\n",
       " 'Senior Manager, Balance Sheet Analytics',\n",
       " 'Online Manager',\n",
       " 'Senior Research Scientist (1-year contract), Living Analytics Research Centre',\n",
       " 'Scientist (Deep Learning Dept /  Healthcare Dept)  /  I2R (A*STAR)',\n",
       " 'Intermediate .Net Developer',\n",
       " 'BI Developer',\n",
       " 'Fiber Optics Cabling Engineer (Data Centre)',\n",
       " 'Channel Insights Manager',\n",
       " 'HR & ADMIN EXECUTIVE',\n",
       " 'Creative Director',\n",
       " 'Semiconductor Manufacturing Equipment Data Scientist',\n",
       " 'Manager, China Programmes',\n",
       " 'Data Scientist: Urban-Rural Systems (UR-Scape)',\n",
       " 'Compliance Monitoring Manager, APAC',\n",
       " 'R&D Engineer',\n",
       " 'Senior Systems Engineer  /  Team Lead  /  Project Manager (Ref 22451))',\n",
       " 'Research Fellow (2-year contract),  Living Analytics Research Centre',\n",
       " 'Member of Technical Staff',\n",
       " 'Data Analyst @ Singapore',\n",
       " 'Credit Control Assistant',\n",
       " 'Global CDS Operations OneTouch Data Analyst',\n",
       " 'Senior Manager, Insights & Planning',\n",
       " 'Digital Business System Analyst',\n",
       " 'Business Intelligence Analyst',\n",
       " 'Market Intelligence Manager (International Beauty Company)',\n",
       " 'Senior Software Engineer (Machine Learning)',\n",
       " 'Cloud Sales Specialist, APJ',\n",
       " 'Senior Business Analyst (HRIS /  HCM)',\n",
       " 'HR Analytics Manager',\n",
       " 'Product Delivery Manager',\n",
       " 'Senior Analyst',\n",
       " 'Channel Sales Manager',\n",
       " 'AVP, BigData Engineer, Group Consumer Banking and Big Data Analytics Technology (180000J9)',\n",
       " 'Automation Expert',\n",
       " 'Strategic Planning Manager (PRM_18010051)',\n",
       " 'Intern and New Grad Lead, APAC - Singapore',\n",
       " 'Senior / Principal GeoSpatial Specialist, GeoTag',\n",
       " 'Senior Advanced Software Engineer',\n",
       " 'Research Engineer (Robotics & Autonomous Systems)',\n",
       " 'Business Development & Digital Marketing Consultant',\n",
       " 'Full Stack Architect',\n",
       " 'Finance Analyst',\n",
       " 'Research Engineer (Augmented Reality Programme)  /  I2R (A*STAR)',\n",
       " 'VP  /  AVP, Trade Analytics (Policy and Standard)  \\xe2\\x80\\x93 Regional Trade, IBG Ops, T&O (18000343)',\n",
       " 'Senior / Data Science Engineer',\n",
       " 'Sales / Application Engineer',\n",
       " 'Business Analyst /  Project Manager',\n",
       " 'Research Engineer (2-year contract), Living Analytics Research Centre',\n",
       " 'Senior Credit Risk Officer #114384',\n",
       " 'PeopleSoft Financials Business Analyst',\n",
       " 'O&T - Data Analyst Lead - 18035524',\n",
       " 'O&T - Private Bank IT Business Senior Analyst - 18017058',\n",
       " 'Commercial Analyst',\n",
       " 'Database Analyst',\n",
       " 'Assistant E-Commerce Manager',\n",
       " 'CoE Expert - Predictive and Advance Analytics',\n",
       " 'Marketing Technologist',\n",
       " 'AVP / Senior Associate, Lead Development Engineer, Grp Consumer Banking & Big Data Analytics (180002YV',\n",
       " 'EXECUTIVE, FINANCIAL ACCOUNTING & ANALYTICS',\n",
       " 'INFORMATION TECHNOLOGY (IT), ANALYTICS & DEVELOPMENT OPERATIONS ORGANIZATION',\n",
       " 'Manager MS Dynamics CRM OR Sharepoint',\n",
       " 'Experian Expert',\n",
       " 'Vice President Marketing',\n",
       " 'Analyst, EDS & S',\n",
       " 'Business Systems Analyst',\n",
       " 'UI Developer - React',\n",
       " 'Head of Engineering',\n",
       " 'Senior Media Planning Director',\n",
       " 'Senior Ruby Developer',\n",
       " 'Senior Data Transformation Analyst',\n",
       " 'VP / AVP, Technical Delivery Manager, Group Consumer Banking and Big Data Analytics Tech (180001I2)',\n",
       " 'Scientist (Natural Language Processing)  /  I\\xc2\\xb2R (A*STAR)',\n",
       " 'Digital Consultant - Senior Manager, Advisory',\n",
       " 'Chatbot Developer  /  Business Analyst',\n",
       " 'SAP BANKING ANALYTICS, S4HANA, AND FRDP SPECIALISTS - SENIOR ROLES IN SINGAPORE',\n",
       " 'Software engineer',\n",
       " 'Marketing Assistant',\n",
       " 'Senior Electrical Engineer (Data Centre)',\n",
       " 'Database Administration',\n",
       " 'Account Manager',\n",
       " 'Business Intelligence Support',\n",
       " 'Scientist (Aquaculture)',\n",
       " 'Manager - Data Transformation Integrated Middle Office',\n",
       " 'South East Asia Consumer Insights Manager',\n",
       " 'DevOps Engineer',\n",
       " 'CISO Service Manager',\n",
       " 'MCT MQE Fault Detection / Data Engineer',\n",
       " 'Director, Governance & Risk Analytics',\n",
       " 'Data Scientist \\xe2\\x80\\x93 Marketing (Partner)',\n",
       " 'Public Relations Coordinator',\n",
       " 'Intelligent Automation - Associate',\n",
       " 'Bioinformatics Specialist',\n",
       " 'AM  /  SENIOR EXEC, CORPORATE COMMUNICATIONS (UP TO $4,500+AWS+VB)',\n",
       " 'Principal Product Quality Engineer',\n",
       " 'Senior Analyst, Digital Solution Development',\n",
       " 'Director, Revenue Strategy, Distribution & Analytics, Asia Pacific',\n",
       " 'GCG - Regional Decision Management Controls Onboarding and Model Risk Management Lead - 18037668',\n",
       " 'Presales Engineer, Commercial',\n",
       " 'Big Data Manager',\n",
       " 'Research Engineer (1-year contract), Centre for Applied Socio-Physical Analytics',\n",
       " 'Sr. Recruiter',\n",
       " 'Senior Quality Assurance Engineer',\n",
       " 'Junior IT Resource Manager  / Senior Officer',\n",
       " 'Analyst, Visa Consulting and Analytics',\n",
       " 'Technical Site Manager',\n",
       " 'Senior Building Services Engineer (Data Centre)',\n",
       " 'Director of Analytics',\n",
       " 'Regional Client Service Analyst',\n",
       " 'GCG - Mobile Business Analytics & Insights Project Manager',\n",
       " 'Business Analyst /  Senior Analyst (Cybersecurity)',\n",
       " 'Data Science Training Program Associate',\n",
       " 'Data Visualisation Specialist',\n",
       " 'Scientist (ARTC,A*STAR)',\n",
       " 'BUSINESS INTELLIGENCE ENGINEER (APAC)',\n",
       " 'Business Analyst /  Tester',\n",
       " 'Consulting Analyst',\n",
       " 'IT Manager, Digital Channels PLO',\n",
       " 'VP, Data Engineer, Asian Insights Office, Group Research (180002PI)',\n",
       " 'Analyzer Service Engineer',\n",
       " 'Real Estate Facility Services-Head SRM SEA & MEA',\n",
       " 'ASEAN Finance Manager',\n",
       " 'School of Technology for the Arts - Lecturer (Design for User Experience)',\n",
       " 'DevOps Engineer (Big Data)',\n",
       " 'Data Architect Senior Consultant',\n",
       " 'Business Analyst (Life or General Insurance system)',\n",
       " 'Design Researcher',\n",
       " 'GCG - Debit Card Business Analytics & Insights Project Manager',\n",
       " 'Research Data Scientist',\n",
       " 'VP / AVP, DevOps Engineer, Group Consumer Banking and Big Data Analytics Technology, T&O (180002KI)',\n",
       " 'AVP  /  Senior Associate, Financial Strategic Planning Analyst, Customer Centre, T&O (180002K7)',\n",
       " 'Snr. Specialist, Risk Mgmt (Treatment)',\n",
       " 'Associate Principal Software Engineer',\n",
       " 'Drupal System Analyst',\n",
       " 'Business Analyst (Ref 22402)',\n",
       " 'Business Systems Analyst (Netsuite)',\n",
       " 'associate business analyst',\n",
       " 'Assistant Manager, GeoAnalytics',\n",
       " 'Account Manager /  Senior Account Manager',\n",
       " 'Research Analyst',\n",
       " 'APAC Data Engineer',\n",
       " 'SAP Banking Specialists',\n",
       " 'Manager / Senior Manager, Financial Services -Corporate Finance Strategy, TAS',\n",
       " 'Senior Application Analyst',\n",
       " 'Senior Associate / Associate, MIS Analyst, Group Consumer Banking & Big Data Analytics Tech (180002T5)',\n",
       " 'Head of Sales Excellence & Online Sales',\n",
       " 'Business Analyst (Agile) (JD#4281)',\n",
       " 'senior maketing manager',\n",
       " 'Associate Consultant',\n",
       " 'Technology Consulting (Intelligent Automation) - Manager',\n",
       " 'Senior Data Engineer',\n",
       " 'Solution  Consulting- Consultant II',\n",
       " 'Research & Development - Associate Researcher - Singapore',\n",
       " 'Contact Center Business support Analyst_18WD27168',\n",
       " 'Business Analyst - Cost Allocation - Group Finance',\n",
       " 'Data scientist',\n",
       " 'Facilities Engineer[Data Centre, M&E]',\n",
       " 'MCT BE Automation PCS Engineer',\n",
       " 'Data Analyst, Group Customer Analytics & Decisioning',\n",
       " 'IT SECURITY \\xe2\\x80\\x93 IDENTITY & ACCESS MANAGEMENT BUSINESS ANALYST',\n",
       " 'E-commerce (Retail)',\n",
       " 'Executive, Business Support',\n",
       " 'Python Developer',\n",
       " 'Experian Consultant',\n",
       " 'Senior Business Analyst  /  Project Manager, Banking, KYC / AML',\n",
       " 'Wealth Management, Derivatives Trading Full Stack Software Engineer, Associate',\n",
       " 'Head of SMB Marketing, Southeast Asia - Singapore',\n",
       " 'Agile Business Analyst',\n",
       " 'Data, Software and Operations Engineer',\n",
       " 'Software Developer, Artificial Intelligence and Machine Learning (Code: R004)',\n",
       " 'Engineer, Software',\n",
       " 'Equities, VP, Core Java Senior Software Developer, Global Markets Technology',\n",
       " 'Senior Associate / Associate, Avaloq Support Analyst, Group Consumer Banking & Big Data, T&O(1800033I)',\n",
       " 'Junior Business Analyst',\n",
       " 'Manager,Marketing Mix Modelling (Delivery)',\n",
       " 'Head of User Research',\n",
       " 'Research Officer in Machine Learning and Computational Biology (BMDD) /  BII (A*STAR)',\n",
       " 'Temp SharePoint Software Developer (Contract: 3 Months)',\n",
       " 'CRM MANAGER',\n",
       " 'Business Analyst Project Manager',\n",
       " 'Service Architect - Hadoop Support',\n",
       " 'Assistant Vice President, Country & Credit Risk Management - Counterparty Credit Risk Analytics',\n",
       " 'Data Platform Engineer',\n",
       " 'Product Marketing Manager, Strategy and Insights, YouTube - Singapore',\n",
       " 'Digital Consultant - Senior Associate, Advisory',\n",
       " 'Sr  /  Design Engineer (Software)',\n",
       " 'PMO Manager (Finance)',\n",
       " 'Chatbot Designer',\n",
       " 'COBAM Data Analytics (Tableau, 6 months contract MBFC)',\n",
       " 'Senior Account Executive',\n",
       " 'Senior Events and Outreach Manager',\n",
       " 'Principal Consultant',\n",
       " 'School of Management and Communication - Associate Lecturer (Digital Business)',\n",
       " 'Data Analytics Analyst',\n",
       " 'Regional Hardware Retail Marketing Manager, Google Pixel - Singapore',\n",
       " 'Office of Finance - Senior Executive /  Assistant Manager (CET)',\n",
       " 'ED  /  SVP, Head of CBG Production Delivery Manager, CBG & Big Data Analytics, T&O (1800033D)',\n",
       " 'Integration Developer',\n",
       " 'Machine Learning Engineer',\n",
       " 'OEM Account Executive',\n",
       " 'Director, Visa Consulting & Analytics \\xe2\\x80\\x93 Singapore, Malaysia, Thailand',\n",
       " 'Change  /  Risk Business Analyst',\n",
       " 'Senior Digital Marketing Manager',\n",
       " 'Business Analyst (Wealth Management)',\n",
       " 'Vice President, Business Analyst',\n",
       " 'Business Process Manager',\n",
       " 'Research Scientist (1-year contract),  Living Analytics Research Centre',\n",
       " 'Equities: Officer / AVP, Equities Data and Analytics Software Developer, Global Markets Technology',\n",
       " 'ODC QA Software Engineer',\n",
       " 'Digital Media Marketing and Events Specialist',\n",
       " \"Principal Scientist, Director (ED's Office)  /  I2R (A*STAR)\",\n",
       " 'BI - Business Intelligence Executive (Qlikview)',\n",
       " 'Software Engineer, Graduate Program',\n",
       " 'SENIOR  /   INTERNAL AUDITOR',\n",
       " 'Marketing Analyst',\n",
       " 'Google Advertising Specialist',\n",
       " 'Lead Data Analyst, Group Data Management Office',\n",
       " 'Policy Escalation Specialist, YouTube (English, Chinese) - Singapore',\n",
       " 'Research Fellow (1-year contract), Living Analytics Research Centre',\n",
       " 'Vision Engineer',\n",
       " 'Data Network Analyst',\n",
       " 'Digital Marketing Senior Executive /  Manager',\n",
       " 'Marketing Coordinator',\n",
       " 'HR Co-ordinator',\n",
       " 'Regional Recruiter',\n",
       " 'Solution Architect (Contract)',\n",
       " 'Senior AI Data Engineer',\n",
       " 'Executive  /  Senior Executive, Digital Communications \\xe2\\x80\\x93 Corporate Communications Office',\n",
       " 'Category Performance Manager',\n",
       " 'VP, Strategy and Planning, Treasury and Markets (180002N8)',\n",
       " 'VP, Development Lead, Group Consumer Banking and Big Data Analytics Technology, T&O (1800033E)',\n",
       " 'PB Balance Sheet Controller #115117',\n",
       " 'Senior Business Analyst (12 months contract)',\n",
       " 'SEARCH ENGINE MARKETING (SEM / PPC) EXECUTIVE',\n",
       " 'Senior / Principal Researcher, Underground Geospatial',\n",
       " 'Head of Robotics and Artificial Intelligence R&D Lab',\n",
       " 'DevOps',\n",
       " 'Big Data Engineer',\n",
       " 'Head, Data Analytics',\n",
       " 'Data Scientist Consultant',\n",
       " 'Technology Consulting Data Analytics - Senior Associate',\n",
       " 'Service Process Specialist',\n",
       " 'VP  /  AVP, Data Scientist, IBG Digital, Institutional Banking Group (180000ZI)',\n",
       " 'Data Managament Analyst',\n",
       " 'Associate  /  Analyst, Business Analyst, Customer Experience, Technology & Operations (18000032)',\n",
       " 'IT Account Lead Regional Franchises',\n",
       " 'Application Architect (Ref 21789)',\n",
       " 'Wealth Management, Full Stack Software Engineer',\n",
       " 'Senior Associate, Data Steward, Treasury & Markets (180002OH)',\n",
       " 'Web Developer',\n",
       " 'Senior Lecturer',\n",
       " 'Watson Explorer Senior Developer',\n",
       " 'Global HRIS Analyst',\n",
       " 'Regional Demand Planning Manager',\n",
       " 'Senior Business Analyst (AGILE)',\n",
       " 'GCG - Rewards Business Analytics & Insights Project Manager',\n",
       " 'Business Analyst Regulatory Reporting - Contract',\n",
       " 'R&D Manager',\n",
       " 'Data Quality Officer',\n",
       " 'O&T - Private Bank Technical Business Senior Analyst - 18011482',\n",
       " 'Marketing Executive',\n",
       " 'Display Go to Market Lead, APAC - Singapore',\n",
       " 'Contract Operations Analyst (Reference Data)',\n",
       " 'Senior HR Business Partner \\xe2\\x80\\x93 Service, Asia Pacific Region',\n",
       " 'Human Resource Business Partner',\n",
       " 'Lead  /  Senior Data Scientist',\n",
       " 'Lead UI / UX Designer',\n",
       " 'Senior Software Developer [Java  /  HTML  /  MySQL  /  Design  /  Database]',\n",
       " 'Digital Marketing Strategist',\n",
       " 'Java Developer (Ref 21726)',\n",
       " 'O&T - ESST Data Fabric IT Business Senior Analyst Singapore -18028449',\n",
       " 'Client Services Executive',\n",
       " 'AVP, Solution Architect (Core Banking), Group Consumer Banking and Big Data Analytics Tech (180002L1',\n",
       " 'Postdoctoral Associate / Research Associate / Research Scientist (Ref: IRG_FM_2018_001)',\n",
       " 'Data Center Support Engineer',\n",
       " 'Financial Engineer',\n",
       " 'Marketing Manager (Retail)',\n",
       " 'Global Logistics, Graduate Program',\n",
       " 'ETL Developer',\n",
       " 'Commercial Financial Analyst, APAC',\n",
       " 'Business analyst (6 months contract)',\n",
       " 'Marketing Manager',\n",
       " 'Vice President, Business Intelligence & Analytics (Big Data  /  Data Management Office)',\n",
       " 'Azure Application Architect',\n",
       " 'Market Research Manager',\n",
       " 'Google Analytics 360 Account Manager',\n",
       " 'Enterprise Architect & BI Technology Centre of Excellence Lead',\n",
       " 'Applied Research Engineer, Computer Vision and Deep Learning',\n",
       " 'Acquisitions Marketing Manager, APAC Growth Marketing, Google Cloud - Singapore',\n",
       " 'SAP SD Consultant',\n",
       " 'VP, Digital Communications Strategist, Financial Planning Group, Consumer Banking Group (180002IM)',\n",
       " 'Field Application Engineer',\n",
       " 'Application Developer (.net developer)',\n",
       " 'Digital Marketing Director',\n",
       " 'Business Analyst - KYC and Client On-boarding (6 months renewable contract)',\n",
       " 'Business Analyst - Regulatory Reporting',\n",
       " 'Technical Program Manager, Google Station - Singapore',\n",
       " 'Client Lifecycle Design and Management Business Analyst',\n",
       " 'SWIFT Business Analyst  /  Project Manager',\n",
       " 'Social Media Manager (AVP / VP)',\n",
       " 'Data / Business Analyst (1 year contract)',\n",
       " 'Risk (Data) Analyst',\n",
       " 'Frontend Developer',\n",
       " 'Management Consulting (HR Transformation) - Director',\n",
       " 'business analyst - strategy and planning APJC',\n",
       " 'Director, Central Analytics, Treasury - Modelling & Risk Platforms',\n",
       " 'BTI - Research Scientist (Stem Cell Bioprocessing)',\n",
       " 'School of Management and Communication - Lecturer (Consumer Behaviour and Research)',\n",
       " 'O&T - Lifecycle and Trade Capture Business Analyst Project Manager - 18026818',\n",
       " 'Director, Digital Performance',\n",
       " 'Portfolio Analyst (Singapore Based)',\n",
       " 'Business Operations Analyst',\n",
       " 'Software Engineer in Test for Quantitative Prime Services Execution',\n",
       " 'Data Sciences & Analytics Engineer',\n",
       " 'Content Marketer',\n",
       " 'Business Consultant',\n",
       " 'Business Analyst Lead (JD#4265)',\n",
       " 'Purchase to Pay Manager',\n",
       " 'CONSUMER MARKET KNOWLEDGE - ASSOCIATE MANAGER',\n",
       " 'Merger & Acquisition - Assistant Manager /  Manager',\n",
       " 'Performance Activation Specialist /  Executive',\n",
       " 'IT Solution Engineer ($2500 \\xe2\\x80\\x93 3000, 5 Days, River Valley)',\n",
       " 'Senior Supply Chain Analyst',\n",
       " 'Forensic Technology & Discovery Services Senior Manager (Digital Forensics), Assurance, Singapore',\n",
       " 'Business Analyst (Service Delivery)',\n",
       " 'Teaching assistants (universities)',\n",
       " 'Credit Business Analysts',\n",
       " 'Manager, Sales Effectiveness - SEAK',\n",
       " 'Senior Account Manager',\n",
       " 'Senior Research Engineer (Data Analytics)  /  I2R (A*STAR)',\n",
       " 'AVP / Snr Associate, Cloud Architect, Group Consumer Banking & Big Data Analytics Tech, T&O (1800033S)',\n",
       " 'Associate Project Engineer',\n",
       " 'Vice President, Data Management Office',\n",
       " 'Build and Release Specialist',\n",
       " 'Decision Analytics Architect',\n",
       " 'Technology Analyst (GST)',\n",
       " 'Senior Manager  /  Manager, Whole Of Government (WOG) ICT / Smart System Portfolio Management',\n",
       " 'Expert Business Analyst- Actimize',\n",
       " 'Technology Consulting Data Analytics - Big Data Developer',\n",
       " 'Technical Lead, Asia Retail Innovation Dept',\n",
       " 'Senior Manager / Manager / Senior Consultant',\n",
       " 'Web Analyst',\n",
       " 'SAP PM / PS consultant',\n",
       " 'Senior Triple A Developer',\n",
       " 'RESEARCH ENGINEER (TCOMS)',\n",
       " 'School of Management and Communication - Associate Lecturer (HRM  /  Career Counselling)',\n",
       " 'Research Associate Position in Data Science and Analytics for Buildings',\n",
       " 'Back-End Web Development Programmer',\n",
       " 'Business Analyst (Counterparty Risk) (JD#4301)',\n",
       " 'AD Delivery & Analytics Product /  Project Manager',\n",
       " 'HUMAN RESOURCE AND ADMINISTRATION',\n",
       " 'Lead Software Engineer',\n",
       " 'VP, Senior Visualisation Engineer, Group Consumer Banking and Big Data Analytics Tech (180001R9)',\n",
       " 'Senior Pricing and Phone Valuer Analyst',\n",
       " 'Associate, Implementation Support',\n",
       " 'Assistant Manager, Analytics',\n",
       " 'Digital Project Manager',\n",
       " 'GX Business Development Manager',\n",
       " 'Manager, Indirect Tax , APTC, Singapore',\n",
       " 'Scientist (Data Analytics /  Deep Learning)  /  I2R (A*STAR)',\n",
       " 'Project Manager - Digital & Innovation',\n",
       " 'Senior Technical Consultant',\n",
       " 'Sales Planner, New Business Sales (English) - Singapore',\n",
       " 'School of Technology for the Arts - Lecturer (Media Production and Design)',\n",
       " 'salesforce analyst',\n",
       " 'Network Engineer, Security & Data Entreprise',\n",
       " 'Technology Consulting Data Analytics - Senior Big Data Developer',\n",
       " 'Qlikview Developer',\n",
       " 'Associate Director, Solutions - Digital Technologies',\n",
       " 'Business Analyst (IT)',\n",
       " 'Experian Specialist',\n",
       " '(102) \\xe2\\x80\\x93 Business Systems Analyst (.NET)',\n",
       " 'Data Engineer  /   Scientist',\n",
       " 'Regional Sales Products and Programs Manager',\n",
       " 'Research Scientist (2-year contract),  Living Analytics Research Centre',\n",
       " 'Senior Program Manager',\n",
       " 'software engineer',\n",
       " 'Data Center System Engineer',\n",
       " 'Data Analyst - Data Scientist',\n",
       " 'Senior Data Technologist',\n",
       " 'IT Business Process Consultant  /  Business Analyst',\n",
       " 'Manager - Data Analytics, Advisory',\n",
       " 'Staff Software Engineer',\n",
       " 'Infra Ops CloudPath Manager',\n",
       " 'AVP, Business Analyst, Investment and Trading Technology, Technology and Operations (180002RG)',\n",
       " '(102) \\xe2\\x80\\x93 Business Systems Analyst Lead (with C# .Net and SQL experience)',\n",
       " 'Financial Analyst (Associate)',\n",
       " 'VP / AVP, Technical Architect, Consumer Banking Group Technology, Technology & Operations (180000XS)',\n",
       " 'VP  /  AVP, Data Scientist - Analytic Centre of Excellence, Data Management, T&O (170003CZ)',\n",
       " 'Data Scientist  /  Analyst ( UP $7K /  JURONG /  PhD /  Masters)',\n",
       " 'Assistant Manager / Technical Manager, Geospatial Analytics (CentEx)',\n",
       " 'LKCSB - Assistant Professor of Operations Management - Tenure Track',\n",
       " 'Java Full Stack Developer',\n",
       " 'Senior Executive  /  Executive - Logistics Quality',\n",
       " 'VP / AVP, Model Development - Group Portfolio Analytics, Risk Management Group (1800030Y)',\n",
       " 'Data Warehouse and Reporting Specialist',\n",
       " 'Equities: AVP /  VP, Order Management System Workflow Core Java Developer, Global Markets Technology',\n",
       " 'Regional Hardware Retail Marketing Manager, Google Assistant - Singapore',\n",
       " 'Software Developer (DMS)',\n",
       " 'Senior Research Fellow',\n",
       " 'Technical Leader',\n",
       " 'SENIOR AI DATA SCIENTIST (MACHINE COMPREHENSION)',\n",
       " 'SENIOR RESEARCER',\n",
       " 'Senior Consultant',\n",
       " 'Technology Consulting - Data and Analytics Associate',\n",
       " 'AI DATA ENGINEER',\n",
       " 'Transaction Banking Senior IT Business Analyst',\n",
       " 'Central Team SPC Manager',\n",
       " 'Assistant Bid Manager',\n",
       " 'Assurance, Fraud Investigation & Dispute Services Senior Manager, Singapore',\n",
       " 'Finance Change Analyst (FCA)',\n",
       " 'Manager, Innovation Analytics Partner',\n",
       " 'Data Scientist / Senior Data Scientist',\n",
       " 'Software Engineer Associate',\n",
       " 'Associate Manager',\n",
       " 'Sharepoint Developer',\n",
       " 'Manager - Hotel Analytics',\n",
       " 'Data Architect, Enterprise Architecture',\n",
       " 'Hiring for the role of Tripple A Consultant on the Payroll of recruitment agency (Aryan Search)',\n",
       " 'Application Engineer',\n",
       " 'Strategic Planning & Marketing Analytics Manager (FLOW_18005881)',\n",
       " 'Senior Financial Consultant',\n",
       " 'Regional Business Analyst',\n",
       " 'Digital Strategist',\n",
       " 'Business Analyst - Audit Confirmation',\n",
       " 'Content Marketing Executive, Social Media',\n",
       " 'BUSINESS ANALYST (DIGITAL)',\n",
       " 'Data Engineer (Hadoop ETL, Data Science Team) - perm in Banking',\n",
       " 'SEO Analyst',\n",
       " 'Specialist, Hadoop Support',\n",
       " 'Presales Consultant',\n",
       " 'Java Developer',\n",
       " 'SVP  /  VP, Ecosystem Development Lead, Grp Consumer Banking & Big Data Analytics Tech, T&O (18000312)',\n",
       " 'Business Analytics Executive',\n",
       " 'Assistant Manager - IOT Developer',\n",
       " 'Senior User Experience (UX) Designer - F&R',\n",
       " 'Research Engineer (SAA)  /  I2R (A*STAR)',\n",
       " 'IT Data Analyst',\n",
       " 'Consultant',\n",
       " 'Data Warehousing Consultant',\n",
       " 'Reliability Engineer',\n",
       " 'VP, Infrastructure Lead, Group Consumer Banking and Big Data Analytics Technology (180002KV)',\n",
       " 'Marketing Analytics Manager',\n",
       " 'Research Fellow Position in Data Science and Analytics for Buildings',\n",
       " 'Head, Data and Prouduct',\n",
       " 'Senior Business Analyst (Payments)',\n",
       " 'VP, HR Shared Delivery (Payroll focused)',\n",
       " 'Aladdin Business, Aladdin Client Engagement, Associate',\n",
       " 'Machine Learning Algorithm Engineer',\n",
       " 'Associate Director, Business Intelligence, South-East Asia - Compliance, Forensics and Intelligence',\n",
       " 'GLASS UX Engineer - Vice President',\n",
       " 'Iron Ore Data Scientist',\n",
       " 'Senior Analyst (Decision Analytics)',\n",
       " 'Business Analyst /  Business Manager',\n",
       " 'Engineer  /  Senior Engineer Factory Automation',\n",
       " 'Specialised Sales Manager (Analytics)',\n",
       " 'O&T - Applications Support Senior Manager - 18026137',\n",
       " 'Senior Digital Business Analyst',\n",
       " 'Frontend Engineer',\n",
       " 'Data Governance Senior Analyst, APAC Data Governance',\n",
       " 'Data Scientist Big Data Hadoop Hive Machine Learning Business Analytics',\n",
       " 'Business Analyst - Infrastructure',\n",
       " 'Multimedia Visualiser',\n",
       " 'Senior Business Analyst - Manager',\n",
       " 'algorithm engineer',\n",
       " 'Software Engineer, Data Services',\n",
       " 'Risk Assurance Senior Associate (Data analytics) - Advisory, Singapore',\n",
       " 'Senior Associate, Big Data IM, Advisory',\n",
       " 'Senior  /  Staff Data Scientist',\n",
       " 'Business Intelligence',\n",
       " 'eCommerce Associate',\n",
       " 'Process Analytics Service Engineer',\n",
       " 'Lecturer',\n",
       " 'Assistant Manager  /  Manager',\n",
       " 'Manager, Managed Services',\n",
       " 'Business Analyst (OIE / DE) - 0083K',\n",
       " 'Tableau BI Developer',\n",
       " 'Area Manager Business Travel (6 months contract)',\n",
       " 'VP  /  AVP, Data Scientist, Investment and Trading Technology, Technology and Operations  (180002YF)',\n",
       " 'Manager, Solution Development',\n",
       " 'Trade Marketing Manager (Personal Care)',\n",
       " 'Reinsurance Data Analyst',\n",
       " 'Trade Finance (Business Analyst)',\n",
       " 'Sr Software Engineer',\n",
       " 'Consultant \\xe2\\x80\\x93  Compliance, Forensics and Intelligence',\n",
       " 'Business Analyst (JD#4306)',\n",
       " 'Business Analyst  /  Project Manager - Advisory',\n",
       " 'Ruby on Rails Developer',\n",
       " 'Senior Marketing Specialist',\n",
       " 'Product Analytics Manager',\n",
       " 'Manufacturing Technology Manager',\n",
       " 'Assistant Planner',\n",
       " 'Market Outreach Coordinator',\n",
       " 'Analyst, Business Management Support Admin & Projects, Private Banking, CBG (1800032X)',\n",
       " 'Data Analytics Consultant',\n",
       " 'DATA ENGINEER',\n",
       " 'Senior Business Analyst (12 months Contract)',\n",
       " 'GCG - AVP, Portfolio Management, Wealth Management & Segments',\n",
       " 'GroupM [m]PLATFORM | Associate Director, Data & Audience Strategy',\n",
       " 'Global Coal Markets Analyst / Senior Analyst',\n",
       " 'Business Analyst - Market Risk /  Credit Risk',\n",
       " 'Director, Performance Insights & Analytics',\n",
       " 'Senior Java Developer',\n",
       " 'Staffing Channels Lead - Singapore',\n",
       " 'Senior Bioinformatics Specialist',\n",
       " 'Java Architect - Python Development',\n",
       " 'LEAD ENGINEER (RECON)',\n",
       " '*Business Analyst',\n",
       " 'Senior Marketing Analytics Manager',\n",
       " 'Business System Analysts',\n",
       " 'Senior Business Process Analyst',\n",
       " 'Lead, Digital Analytics',\n",
       " 'Engineer, Data Centre Operations',\n",
       " 'Senior Acquisitions Manager',\n",
       " 'API DEVELOPER',\n",
       " 'Wealth Management, Full Stack Software Engineer, Associate',\n",
       " 'Data Analyst / Scientist',\n",
       " 'Vice Senior Manager',\n",
       " 'Senior Business Analyst  /  Project Manager, Execution / OMS',\n",
       " 'Senior Associate  /  Associate, Data Scientist, IBG Digital, Institutional Banking Group (180000ZI)',\n",
       " '1.\\tOperations & Administration Specialist - Machine Learning',\n",
       " 'APAC Strategy and Operations Manager, Google Marketing Solutions - Singapore',\n",
       " 'Solution Consulting \\xe2\\x80\\x93 Lead Consultant',\n",
       " 'Business Analyst  (Wealth Management)',\n",
       " 'School of Engineering - Lecturer (Engineering Design with Business)',\n",
       " 'Manager, Big Data IM, Advisory',\n",
       " 'Functional Business Analyst',\n",
       " 'School of Management and Communication - Lecturer (Human Resource Management with Psychology)',\n",
       " 'GIS - Bioinformatics Specialist',\n",
       " 'Business Development Director',\n",
       " 'Java Software Developer - Payments Technology, Associate',\n",
       " 'Senior Manager, Advanced Analytics, ERM',\n",
       " 'Deals Data & Analytics - Senior Associate',\n",
       " 'Storage Engineer  /  Data Storage ~ Up $5000',\n",
       " 'Revenue Accountant',\n",
       " 'Speech Analytics Project Manager',\n",
       " 'Data Analyst (Fintech)',\n",
       " 'Business Analyst (Retail)',\n",
       " 'Research Intern(Data science & Analytics)',\n",
       " 'Finance Controller',\n",
       " 'Market Analytics Lead',\n",
       " 'Business Systems Analyst Lead - .Net (Ref 22413)',\n",
       " 'Assistant Vice President, Information Management',\n",
       " 'Business Operations Lead, Google Play - Singapore',\n",
       " 'SENIOR AI DATA SCIENTIST (GENERALIST)',\n",
       " 'Senior Consultant Production',\n",
       " 'Contract Staff (Senior), Application Development Lead, Institutional Banking Tech, T&O (18000190)',\n",
       " 'Senior LNG Analyst',\n",
       " 'Business Analyst, Mobile POS',\n",
       " 'Data Science Developer (4 mths contract)',\n",
       " 'Scientist (Healthcare Department - Medical Imaging)  /  I2R (A*STAR)',\n",
       " 'Finance & Business Analyst',\n",
       " 'DWH Consultant',\n",
       " 'Senior Software Developer',\n",
       " 'Head of research',\n",
       " 'Business Intelligence Associate',\n",
       " 'Senior Assoc / Assoc, Report Analyst - Group Portfolio Analytics, Risk Mgt Grp(1800031G)',\n",
       " 'Template Manager',\n",
       " 'Associate / AVP, Senior IT Analyst (Big Data)',\n",
       " 'Social Content Specialist',\n",
       " 'Global Solutions Partner',\n",
       " 'Junior  /  Senior IT Resource Officer',\n",
       " 'Digital Campaign Specialist',\n",
       " 'Senior Buyer / Merchandiser-SEA / Japan retail market-JAPANESE SPEAKING',\n",
       " 'Product Engineer',\n",
       " 'Senior Data Scientist - F&R',\n",
       " 'Business Intelligence \\xe2\\x80\\x93 AI  /  Big Data Strategy Partners - Vice President',\n",
       " 'School of Infocomm - Research Staff (Data Analytics / Artificial Intelligence)',\n",
       " 'SAP HANA Modeling Consultant',\n",
       " 'Business Analyst RPA',\n",
       " 'Aviation Logistics manager',\n",
       " 'Business Systems Analyst - Java side server scripting (Ref 22416)',\n",
       " 'O&T - Futures Cash and Collateral Associate, IT Business Analyst - 18023081',\n",
       " 'Principal Sales Consultant',\n",
       " 'Lead / Senior Systems Analyst, Business Intelligence and Reporting',\n",
       " 'SVP  /  VP, Risk Development Manager, Middle Office Technology, Technology & Operations (170003MD)',\n",
       " 'Business Development Analyst',\n",
       " 'Scientist(Experimental Power Grid Centre) [FY18006]',\n",
       " 'Sr Report Developer',\n",
       " 'Assistant Vice President, Business Analyst (xRM)',\n",
       " 'GCG - VP, Decision Management',\n",
       " 'AVP / VP, Reference Data Datawarehouse Developer, Global Markets Technology',\n",
       " 'Senior Financial Analyst, Source Finance Center of Excellence (CoE)',\n",
       " 'Contract - Data Scientist for Business Analytics (BA)',\n",
       " 'Digital Merchandising and Trading Manager, Asia Pacific',\n",
       " 'Senior Information Technology Consultant',\n",
       " 'Experience Centre - Senior Manager',\n",
       " 'Research Engineer (Visual Intelligence)  /  I\\xc2\\xb2R (A*STAR)',\n",
       " 'CIB Operations (Derivatives Operations) - Global Clearing Project Manager - Singapore - Associate',\n",
       " 'School of Technology for the Arts - Associate Lecturer (Design for User Experience)',\n",
       " 'Smarthub Big Data Engineer',\n",
       " 'AI CHATBOT / MACHINE LEARNING ENGINEER',\n",
       " 'Business Analyst (6 months, MBFC. Operational excellence)',\n",
       " 'Product Management Executive, Digital',\n",
       " 'Digital Excellence Manager',\n",
       " 'IT Business Analyst (  MANTAS)',\n",
       " 'GIS: VP, Human Threat Prevention Analyst, Global Information Security',\n",
       " 'Assistant Manager , IT (Data Warehouse Architect)',\n",
       " 'Process Control System-Fault Detection and Classification Engineer',\n",
       " 'Digital Partnerships Manager',\n",
       " 'Contract Staff (Senior), Business Analyst, Data & Transformation, Technology & Operations (18000308)',\n",
       " 'Solution Engineer (Contact Centre AI& Cognitive Applications)',\n",
       " 'IT Business Analyst, FInance and Accounting',\n",
       " 'Business Application Analyst (Finance, WMS & Data Management)',\n",
       " 'Branding and Marketing Communication ASEAN',\n",
       " 'Digital Ecosystem & Teamplay Business Development Manager (59574)',\n",
       " 'Business Analyst Infrastructure',\n",
       " 'Software Engineer  /  Full Stack Developer ( Up To $6000 +VB)',\n",
       " 'Senior Digital Communications Manager',\n",
       " 'Senior Principal Investigator  /  Principal Investigator (SICS)  /  A*STAR',\n",
       " 'Senior  /  Manager - Business Intelligence & Projects (Industrial Power Control)',\n",
       " 'SAP Analytics-HANA / SLT Consultant',\n",
       " 'Analyst, Control,Process & Gov|Control, Process & Governance| Platform',\n",
       " 'APPLICATION DEVELOPER (JAVA DEVELOPER)',\n",
       " 'Risk Manager',\n",
       " 'Transformation Partner Singapore',\n",
       " 'VP  /  AVP, Strategy Manager, Consumer Bank Group Operations - Future Operations, T&O (18000307)',\n",
       " 'Business /  Data Analyst, Corporate Technology - Global Surveillance Technology, Associate',\n",
       " 'Product Analyst',\n",
       " 'Senior Backend Developer',\n",
       " 'INDUSTRIAL DESIGNER [MNC]',\n",
       " 'Manager, Strategy & Market Insight',\n",
       " 'Senior Business Analyst (IT)',\n",
       " 'Senior Data Scientist',\n",
       " 'Data Analyst - Gaming attachment 8 Months cambodia',\n",
       " 'Automation Engineer',\n",
       " 'Walkin interviews 29th June 11:00 AM Onwards',\n",
       " 'Business Analyst (PBWM)',\n",
       " 'Director, Business Intelligence, South-East Asia',\n",
       " 'Data Scientist Lead, IBG Digital, Institutional Banking Group (180002JP)',\n",
       " 'Japanese Speaking Web Analyst',\n",
       " 'Datawarehouse Consultant',\n",
       " 'AVP, Mobile Delivery Manager, Group Consumer Banking and Big Data Analytics Tech, T&O (180002PS)',\n",
       " 'Quantitative Researcher',\n",
       " 'Marketing Analyst Manager',\n",
       " 'O&T - TTS APAC Technology Payments and Receivables Business Analyst - 18015305',\n",
       " 'NVE Product Engineer (Dispo)',\n",
       " 'Senior Analyst, Sales Operations',\n",
       " 'Digital API Architect']"
      ]
     },
     "execution_count": 31,
     "metadata": {},
     "output_type": "execute_result"
    }
   ],
   "source": [
    "#Check out types of titles \n",
    "df['Title'].unique().tolist()"
   ]
  },
  {
   "cell_type": "code",
   "execution_count": 32,
   "metadata": {},
   "outputs": [
    {
     "name": "stdout",
     "output_type": "stream",
     "text": [
      "(1228L, 50L)\n",
      "analyst              354\n",
      "business             285\n",
      "data                 273\n",
      "senior               206\n",
      "manager              206\n",
      "business analyst     202\n",
      "engineer             172\n",
      "analytics            117\n",
      "scientist             99\n",
      "research              76\n",
      "associate             72\n",
      "data scientist        69\n",
      "developer             67\n",
      "software              61\n",
      "digital               57\n",
      "marketing             52\n",
      "consultant            51\n",
      "singapore             46\n",
      "lead                  45\n",
      "technology            45\n",
      "executive             44\n",
      "data analytics        43\n",
      "software engineer     42\n",
      "data analyst          40\n",
      "management            39\n",
      "dtype: int64\n"
     ]
    },
    {
     "data": {
      "image/png": "[encoded data removed]",
      "text/plain": [
       "<matplotlib.figure.Figure at 0xd305518>"
      ]
     },
     "metadata": {},
     "output_type": "display_data"
    }
   ],
   "source": [
    "#Check which are the most occuring words\n",
    "\n",
    "#\n",
    "X_title = df['Title']\n",
    "\n",
    "#initilaize \n",
    "stopword_list =[]\n",
    "cvec = CountVectorizer(stop_words ='english',ngram_range = (1,2),max_features = 50)\n",
    "\n",
    "#Fit and return a matrix using 'todense'\n",
    "cvec.fit(X_title)\n",
    "cvec_matrix = cvec.transform(X_title).todense()\n",
    "\n",
    "#return features_names\n",
    "cvec_columns= cvec.get_feature_names()\n",
    "\n",
    "#Make into a dataframe\n",
    "print cvec_matrix.shape\n",
    "title_df = pd.DataFrame(cvec_matrix, columns = cvec_columns)\n",
    "\n",
    "#Check to see most frequent words\n",
    "most_frequent_words = title_df.sum().sort_values(ascending =False).head(25)\n",
    "print most_frequent_words\n",
    "\n",
    "#Plot top  25\n",
    "plot = pd.DataFrame(most_frequent_words)\n",
    "fig, ax = plt.subplots(figsize=(11,6))\n",
    "g = sns.barplot(plot.index, plot[0])\n",
    "g.set_xticklabels(g.get_xticklabels(), rotation=45)\n",
    "plt.title('Top 25 words in Job Titles')\n",
    "plt.xlabel('Title')\n",
    "plt.ylabel('Counts')\n",
    "plt.show();"
   ]
  },
  {
   "cell_type": "markdown",
   "metadata": {},
   "source": [
    "### [RESPONSIBILITY COLUMN] \n",
    "- Use count vectorizer to find out top words in repsonsibilites"
   ]
  },
  {
   "cell_type": "code",
   "execution_count": 33,
   "metadata": {},
   "outputs": [
    {
     "name": "stdout",
     "output_type": "stream",
     "text": [
      "(1228L, 1000L)\n",
      "data           3222\n",
      "business       2779\n",
      "team           1708\n",
      "work           1282\n",
      "analytics      1199\n",
      "management     1196\n",
      "support        1161\n",
      "development     935\n",
      "project         844\n",
      "solutions       827\n",
      "design          810\n",
      "develop         777\n",
      "teams           744\n",
      "new             733\n",
      "ensure          728\n",
      "marketing       726\n",
      "analysis        693\n",
      "product         684\n",
      "experience      675\n",
      "technology      671\n",
      "provide         662\n",
      "projects        646\n",
      "research        603\n",
      "digital         580\n",
      "role            558\n",
      "dtype: int64\n"
     ]
    },
    {
     "data": {
      "image/png": "[encoded data removed]",
      "text/plain": [
       "<matplotlib.figure.Figure at 0xd2ff828>"
      ]
     },
     "metadata": {},
     "output_type": "display_data"
    }
   ],
   "source": [
    "#Vectorize them\n",
    "Resp_cvec = CountVectorizer(df['Responsibility'])\n",
    "\n",
    "#initilaize\n",
    "from sklearn.feature_extraction import text #import this to add stop words\n",
    "my_additional_stop_words =('responsibilities','roles','requirements')\n",
    "Resp_cvec = CountVectorizer(stop_words = text.ENGLISH_STOP_WORDS.union(my_additional_stop_words),ngram_range = (1,2),max_features = 1000)\n",
    "\n",
    "#Fit and return a matrix using 'todense'\n",
    "Resp_cvec.fit(df['Responsibility'])\n",
    "Resp_cvec_matrix = Resp_cvec.transform(df['Responsibility']).todense()\n",
    "\n",
    "#return features_names\n",
    "Resp_cvec_columns= Resp_cvec.get_feature_names()\n",
    "\n",
    "#Make into a dataframe\n",
    "print Resp_cvec_matrix.shape\n",
    "Resp_df = pd.DataFrame(Resp_cvec_matrix, columns = Resp_cvec_columns)\n",
    "\n",
    "#Check to see most frequent words\n",
    "most_frequent_words = Resp_df.sum().sort_values(ascending =False).head(25)\n",
    "print most_frequent_words\n",
    "\n",
    "#Plot top  25\n",
    "plot = pd.DataFrame(most_frequent_words)\n",
    "fig, ax = plt.subplots(figsize=(11,6))\n",
    "g = sns.barplot(plot.index, plot[0])\n",
    "g.set_xticklabels(g.get_xticklabels(), rotation=45)\n",
    "plt.title('Top 25 words in Responsibilities')\n",
    "plt.xlabel('Responsibilites')\n",
    "plt.ylabel('Counts')\n",
    "plt.show();"
   ]
  },
  {
   "cell_type": "markdown",
   "metadata": {},
   "source": [
    "### [REQUIREMENTS COLUMN]\n",
    "- Use count vectorizer to find out top words in requirments"
   ]
  },
  {
   "cell_type": "code",
   "execution_count": 34,
   "metadata": {},
   "outputs": [
    {
     "name": "stdout",
     "output_type": "stream",
     "text": [
      "(1228L, 1000L)\n",
      "experience       3635\n",
      "skills           1850\n",
      "data             1679\n",
      "business         1259\n",
      "strong           1215\n",
      "management       1134\n",
      "knowledge        1129\n",
      "ability          1011\n",
      "years            1007\n",
      "working           869\n",
      "work              843\n",
      "team              703\n",
      "degree            698\n",
      "good              673\n",
      "communication     664\n",
      "development       655\n",
      "science           505\n",
      "excellent         494\n",
      "computer          490\n",
      "analytics         486\n",
      "understanding     480\n",
      "analysis          477\n",
      "tools             474\n",
      "project           468\n",
      "related           441\n",
      "dtype: int64\n"
     ]
    },
    {
     "data": {
      "image/png": "[encoded data removed]",
      "text/plain": [
       "<matplotlib.figure.Figure at 0xc199400>"
      ]
     },
     "metadata": {},
     "output_type": "display_data"
    }
   ],
   "source": [
    "#Vectorize them\n",
    "Req_cvec = CountVectorizer(df['Requirements'],)\n",
    "\n",
    "#initilaize\n",
    "my_additional_stop_words =('responsibilities','roles','requirements')\n",
    "Req_cvec = CountVectorizer(stop_words = text.ENGLISH_STOP_WORDS.union(my_additional_stop_words),ngram_range = (1,2),max_features = 1000)\n",
    "\n",
    "#Fit and return a matrix using 'todense'\n",
    "Req_cvec.fit(df['Requirements'])\n",
    "Req_cvec_matrix = Req_cvec.transform(df['Requirements']).todense()\n",
    "\n",
    "#return features_names\n",
    "Req_cvec_columns = Req_cvec.get_feature_names()\n",
    "\n",
    "#Make into a dataframe\n",
    "print Req_cvec_matrix.shape\n",
    "Req_df = pd.DataFrame(Req_cvec_matrix, columns = Req_cvec_columns)\n",
    "\n",
    "#Check to see most frequent words\n",
    "most_frequent_words = Req_df.sum().sort_values(ascending =False).head(25)\n",
    "print most_frequent_words\n",
    "\n",
    "#Plot top  25\n",
    "plot = pd.DataFrame(most_frequent_words)\n",
    "fig, ax = plt.subplots(figsize=(11,6))\n",
    "g = sns.barplot(plot.index, plot[0])\n",
    "g.set_xticklabels(g.get_xticklabels(), rotation=45)\n",
    "plt.title('Top 25 words in Requirments')\n",
    "plt.xlabel('Requirements')\n",
    "plt.ylabel('Counts')\n",
    "plt.show();"
   ]
  },
  {
   "cell_type": "markdown",
   "metadata": {},
   "source": [
    "### [Regression]\n",
    "**I attempted to find the best features to predict salary based on 4 factors first as a baseline:**\n",
    "-  Seniority\n",
    "-  Title\n",
    "-  Industry\n",
    "-  Emp_type\n",
    "\n"
   ]
  },
  {
   "cell_type": "code",
   "execution_count": 35,
   "metadata": {},
   "outputs": [
    {
     "name": "stdout",
     "output_type": "stream",
     "text": [
      "(1228, 12)\n",
      "(1228, 12)\n"
     ]
    }
   ],
   "source": [
    "print df.shape\n",
    "df = df.reset_index(drop =True)\n",
    "print df.shape"
   ]
  },
  {
   "cell_type": "code",
   "execution_count": 36,
   "metadata": {},
   "outputs": [],
   "source": [
    "#Use job seniority, title and emp type as predictors, mean_salry as target\n",
    "X = pd.concat([emp_type_df, seniority_df, title_df, industry_df ],axis =1)\n",
    "y = df['mean_salary']"
   ]
  },
  {
   "cell_type": "code",
   "execution_count": 37,
   "metadata": {},
   "outputs": [
    {
     "name": "stderr",
     "output_type": "stream",
     "text": [
      "C:\\Users\\Tan Kian How\\Anaconda2\\lib\\site-packages\\sklearn\\cross_validation.py:41: DeprecationWarning: This module was deprecated in version 0.18 in favor of the model_selection module into which all the refactored classes and functions are moved. Also note that the interface of the new CV iterators are different from that of this module. This module will be removed in 0.20.\n",
      "  \"This module will be removed in 0.20.\", DeprecationWarning)\n"
     ]
    }
   ],
   "source": [
    "#import and split data into train and test set\n",
    "from sklearn.linear_model import LinearRegression\n",
    "from sklearn.model_selection import train_test_split\n",
    "from sklearn.cross_validation import cross_val_score\n",
    "\n",
    "X_train, X_test, y_train, y_test = train_test_split(X, y, test_size=0.3)"
   ]
  },
  {
   "cell_type": "code",
   "execution_count": 38,
   "metadata": {},
   "outputs": [
    {
     "name": "stdout",
     "output_type": "stream",
     "text": [
      "f_features:\n",
      "[u'executive' u'freshentrylevel' u'juniorexecutive' u'manager'\n",
      " u'seniormanagement' u'director' u'executive' u'lead' u'manager'\n",
      " 'Banking, Finance'] \n",
      "\n"
     ]
    }
   ],
   "source": [
    "#K-best\n",
    "from sklearn.feature_selection import SelectKBest, f_regression\n",
    "skb_f = SelectKBest(f_regression, k=10)\n",
    "skb_f.fit_transform(X_train, y_train)\n",
    "\n",
    "\n",
    "#for feature, score, pvalue in zip(X_train.columns, skb_f.scores_,skb_f.pvalues_):\n",
    "#    print feature,score,pvalue\n",
    "\n",
    "#Print your k-best\n",
    "X_f_col = np.array(X_train.columns[skb_f.get_support(True)]) #select chosen column, true gives column index\n",
    "print 'f_features:'\n",
    "print X_f_col,'\\n'"
   ]
  },
  {
   "cell_type": "code",
   "execution_count": 39,
   "metadata": {},
   "outputs": [
    {
     "name": "stdout",
     "output_type": "stream",
     "text": [
      "X_lasso_col:\n",
      "[u'juniorexecutive' 'Banking, Finance' u'director' u'lead' u'manager'\n",
      " u'executive' 'Information Technology' u'singapore' u'executive'\n",
      " u'freshentrylevel' u'senior' u'seniormanagement' 'Others' u'manager'\n",
      " u'software engineer' u'scientist' u'development' u'engineer' u'research'\n",
      " u'contract' u'avp' u'developer' u'data analyst' u'banking'\n",
      " u'project manager' u'associate' 'Engineering' u'data analytics'\n",
      " u'specialist' u'architect' u'parttime' u'digital' 'Consulting'\n",
      " 'Marketing, Public Relations' u'finance' u'business analyst'\n",
      " u'nonexecutive' 'Science, Research' u'senior manager' u'marketing'\n",
      " u'intelligence' u'assistant']\n"
     ]
    }
   ],
   "source": [
    "#lasso feature selection\n",
    "#lasso requires standardization first\n",
    "from sklearn.preprocessing import StandardScaler\n",
    "X_train_ss = StandardScaler().fit_transform(X_train)\n",
    "X_train_ss\n",
    "\n",
    "from sklearn.linear_model import LassoCV\n",
    "\n",
    "optimal_lasso = LassoCV(n_alphas=500, cv=10) #LassoCV decide what alphas to use, just set no. of alphas to test.\n",
    "optimal_lasso.fit(X_train_ss, y_train)\n",
    "\n",
    "coefs = list(zip(X_train.columns.values, optimal_lasso.coef_))\n",
    "coefs = pd.DataFrame.from_records(coefs)\n",
    "coefs['abs'] = abs(coefs[1])\n",
    "\n",
    "X_lasso_col = coefs[coefs['abs'] != 0].sort_values('abs', ascending=False)\n",
    "X_lasso_col = np.array(X_lasso_col.iloc[:,0])\n",
    "\n",
    "#print the chosen ones\n",
    "print 'X_lasso_col:'\n",
    "print X_lasso_col"
   ]
  },
  {
   "cell_type": "code",
   "execution_count": 40,
   "metadata": {},
   "outputs": [
    {
     "name": "stdout",
     "output_type": "stream",
     "text": [
      "recursive_features:\n",
      "[u'parttime' u'executive' u'freshentrylevel' u'juniorexecutive' u'manager'\n",
      " u'seniormanagement' u'architect' u'avp' u'banking' u'big' u'big data'\n",
      " u'business' u'business analyst' u'business intelligence' u'data analyst'\n",
      " u'data analytics' u'developer' u'development' u'digital' u'director'\n",
      " u'executive' u'finance' u'i2r star' u'intelligence' u'lead' u'manager'\n",
      " u'marketing' u'project' u'project manager' u'research' u'scientist'\n",
      " u'senior' u'senior business' u'singapore' u'software'\n",
      " u'software engineer' u'specialist' u'vp' 'Banking, Finance' 'Consulting'\n",
      " 'Engineering' 'Information Technology' 'Marketing, Public Relations'\n",
      " 'Others' 'Science, Research'] \n",
      "\n"
     ]
    }
   ],
   "source": [
    "#RFECV\n",
    "from sklearn.feature_selection import RFECV\n",
    "from sklearn.linear_model import LinearRegression\n",
    "\n",
    "lr = LinearRegression()\n",
    "selector = RFECV(estimator=lr, cv=10)\n",
    "selector.fit(X_train, y_train)\n",
    "\n",
    "\n",
    "list(zip(X_train.columns.values, selector.support_, selector.ranking_)) #print variables, selection and ranks -> rank 1 is the best\n",
    "X_RFECV_col = np.array(X_train.columns[selector.support_]) #select chosen column from TRUE\n",
    "\n",
    "#print the chosen ones\n",
    "print 'recursive_features:'\n",
    "print X_RFECV_col,'\\n'"
   ]
  },
  {
   "cell_type": "code",
   "execution_count": 41,
   "metadata": {},
   "outputs": [
    {
     "data": {
      "text/html": [
       "<div>\n",
       "<style scoped>\n",
       "    .dataframe tbody tr th:only-of-type {\n",
       "        vertical-align: middle;\n",
       "    }\n",
       "\n",
       "    .dataframe tbody tr th {\n",
       "        vertical-align: top;\n",
       "    }\n",
       "\n",
       "    .dataframe thead th {\n",
       "        text-align: right;\n",
       "    }\n",
       "</style>\n",
       "<table border=\"1\" class=\"dataframe\">\n",
       "  <thead>\n",
       "    <tr style=\"text-align: right;\">\n",
       "      <th></th>\n",
       "      <th>mean score</th>\n",
       "      <th>std score</th>\n",
       "    </tr>\n",
       "  </thead>\n",
       "  <tbody>\n",
       "    <tr>\n",
       "      <th>kbest</th>\n",
       "      <td>0.229626</td>\n",
       "      <td>0.050058</td>\n",
       "    </tr>\n",
       "    <tr>\n",
       "      <th>rfecv</th>\n",
       "      <td>0.191852</td>\n",
       "      <td>0.167627</td>\n",
       "    </tr>\n",
       "    <tr>\n",
       "      <th>lasso</th>\n",
       "      <td>0.287562</td>\n",
       "      <td>0.077324</td>\n",
       "    </tr>\n",
       "    <tr>\n",
       "      <th>all</th>\n",
       "      <td>0.258998</td>\n",
       "      <td>0.076764</td>\n",
       "    </tr>\n",
       "  </tbody>\n",
       "</table>\n",
       "</div>"
      ],
      "text/plain": [
       "       mean score  std score\n",
       "kbest    0.229626   0.050058\n",
       "rfecv    0.191852   0.167627\n",
       "lasso    0.287562   0.077324\n",
       "all      0.258998   0.076764"
      ]
     },
     "execution_count": 41,
     "metadata": {},
     "output_type": "execute_result"
    }
   ],
   "source": [
    "#Compare all models\n",
    "from sklearn.model_selection import cross_val_score\n",
    "\n",
    "# Defining a function to test our best features head to head.\n",
    "lr = LinearRegression()\n",
    "\n",
    "def score(X):\n",
    "    scores = cross_val_score(lr, X, y_train, cv=5)\n",
    "    return scores.mean(), scores.std()\n",
    "\n",
    "# A list of all of our lists of best features being executed in the score function.\n",
    "all_scores = [\n",
    "    score(X_train[X_f_col]),\n",
    "    score(X_train[X_RFECV_col]),\n",
    "    score(X_train[X_lasso_col]),\n",
    "    score(X_train)]\n",
    "\n",
    "# Putting results into a DataFrame.\n",
    "pd.DataFrame(all_scores, columns=['mean score', 'std score'], index = ['kbest', 'rfecv', 'lasso', 'all'])"
   ]
  },
  {
   "cell_type": "markdown",
   "metadata": {},
   "source": [
    "### [Thoughts]:\n",
    "-  We see that rfecv performs the best, but the score is still pretty low. Thus we try to add 'Industry' and 'Responsibilty' to the predictors.\n",
    "\n",
    "-  We can use lasso as there is not much of a difference in score and also lasso allows us to play with sparse features as feature selection"
   ]
  },
  {
   "cell_type": "code",
   "execution_count": 42,
   "metadata": {},
   "outputs": [
    {
     "name": "stdout",
     "output_type": "stream",
     "text": [
      "Predictors(X):  (1228, 2070)\n",
      "Target(y):  (1228L,)\n",
      "--------------------------------------\n",
      "10 fold Training accuracy scores:  [0.24133392 0.14959628 0.3587649  0.43789502 0.36845085 0.25720815\n",
      " 0.26415985 0.33296748 0.36711839 0.32063055] Mean:  0.30981253853149776\n",
      "--------------------------------------\n",
      "Predicted R2 scores: 0.3549845583218476\n",
      "--------------------------------------\n",
      "Fitting 10 folds for each of 4 candidates, totalling 40 fits\n",
      "best_score: 0.34813503613388314\n",
      "--------------------------------------\n",
      "best estimator Lasso(alpha=90, copy_X=True, fit_intercept=True, max_iter=1000,\n",
      "   normalize=False, positive=False, precompute=False, random_state=None,\n",
      "   selection='cyclic', tol=0.0001, warm_start=False)\n",
      "--------------------------------------\n",
      "predicted R2 with best hyperparamter: 0.3853339685989353\n"
     ]
    },
    {
     "name": "stderr",
     "output_type": "stream",
     "text": [
      "[Parallel(n_jobs=1)]: Done  40 out of  40 | elapsed:    4.9s finished\n"
     ]
    }
   ],
   "source": [
    "#Attempt to put all togther using lasso\n",
    "X = pd.concat([emp_type_df, seniority_df, title_df, industry_df, Resp_df, Req_df ],axis =1)\n",
    "y = df['mean_salary']\n",
    "print 'Predictors(X): ',X.shape\n",
    "print 'Target(y): ',y.shape\n",
    "print '--------------------------------------'\n",
    "\n",
    "#Train-Test-Split\n",
    "from sklearn.model_selection import train_test_split\n",
    "X_train, X_test, y_train, y_test = train_test_split(X, y, test_size=0.3)\n",
    "\n",
    "#Scale\n",
    "from sklearn.preprocessing import StandardScaler\n",
    "scaler = StandardScaler().fit(X_train)\n",
    "ss_X_train = scaler.transform(X_train)\n",
    "ss_X_test = scaler.transform(X_test)\n",
    "\n",
    "#Run lasso\n",
    "from sklearn.linear_model import Lasso\n",
    "#Apply lasso\n",
    "# #Setting alpha to 0 will be equal to ordinary least squares,hence i should achieve the same result.Apply best alpha after gridsearch\n",
    "ls = Lasso(alpha = 150)\n",
    "\n",
    "#10 cross-validation on lasso\n",
    "from sklearn.cross_validation import cross_val_score\n",
    "lsscore = cross_val_score(ls, ss_X_train, y_train, cv= 10)\n",
    "print '10 fold Training accuracy scores: ', lsscore, 'Mean: ', lsscore.mean()\n",
    "print '--------------------------------------'\n",
    "\n",
    "#Get the score of prediction\n",
    "ls.fit(ss_X_train, y_train)\n",
    "print 'Predicted R2 scores:', ls.score(ss_X_test, y_test)\n",
    "print '--------------------------------------'\n",
    "\n",
    "#Tune hyperparameters to see if we can increase the score\n",
    "from sklearn.model_selection import GridSearchCV\n",
    "alpha = [50,75,90,100]\n",
    "\n",
    "params = dict(alpha = alpha)\n",
    "ls_grid_search = GridSearchCV(Lasso(),params,cv =10,verbose =1 )\n",
    "ls_grid_search.fit(ss_X_train, y_train)\n",
    "\n",
    "#Get the best score\n",
    "print 'best_score:', ls_grid_search.best_score_\n",
    "print '--------------------------------------'\n",
    "\n",
    "#Get best estimator\n",
    "best_estimator = ls_grid_search.best_estimator_\n",
    "print 'best estimator', best_estimator\n",
    "print '--------------------------------------'\n",
    "\n",
    "predictions = ls_grid_search.predict(ss_X_test)\n",
    "print 'predicted R2 with best hyperparamter:', ls_grid_search.score(ss_X_test, y_test)\n"
   ]
  },
  {
   "cell_type": "markdown",
   "metadata": {},
   "source": [
    "### [Conclusion:]\n",
    "-  It would seem like there is not much difference before and after adding the responsibility and requirments column\n",
    "-  Also, I believe the score is bad as there are not enough data points. Perhaps we can try doing a classification method to predict high/medium/low salary instead "
   ]
  },
  {
   "cell_type": "markdown",
   "metadata": {},
   "source": [
    "### [Classification]"
   ]
  },
  {
   "cell_type": "code",
   "execution_count": 43,
   "metadata": {},
   "outputs": [
    {
     "data": {
      "image/png": "[encoded data removed]",
      "text/plain": [
       "<matplotlib.figure.Figure at 0xd7c06a0>"
      ]
     },
     "metadata": {},
     "output_type": "display_data"
    }
   ],
   "source": [
    "#Plot the salary distribution again\n",
    "sns.distplot(df['mean_salary'],kde =False);"
   ]
  },
  {
   "cell_type": "code",
   "execution_count": 44,
   "metadata": {},
   "outputs": [],
   "source": [
    "#Use pd.cut to bucket into 3 categories and assign labels to them\n",
    "df['salary_category'] = pd.cut(df['mean_salary'], 3,labels=['low', 'med', 'high'])\n",
    "\n",
    "#Use pd factorize to convert into digits so that sklearn can understand\n",
    "#factorize returns a tuple where index 0 contains the digits \n",
    "factor = pd.factorize(df['salary_category'])\n",
    "df['salary_category_factorized'] = factor[0]\n",
    "definitions = factor[1]"
   ]
  },
  {
   "cell_type": "code",
   "execution_count": 45,
   "metadata": {},
   "outputs": [
    {
     "name": "stdout",
     "output_type": "stream",
     "text": [
      " First model('Random Forrest)'s Accuracy: 0.6384364820846905\n"
     ]
    }
   ],
   "source": [
    "#imports\n",
    "from sklearn.model_selection import train_test_split\n",
    "from sklearn.preprocessing import StandardScaler\n",
    "from sklearn.ensemble import RandomForestClassifier\n",
    "from sklearn.metrics import confusion_matrix\n",
    "from sklearn import metrics\n",
    "\n",
    "\n",
    "#Define my X and y\n",
    "X = pd.concat([emp_type_df, seniority_df, title_df, industry_df],axis =1)\n",
    "y = df['salary_category_factorized']\n",
    "\n",
    "# Creating the Training and Test set from data\n",
    "X_train, X_test, y_train, y_test = train_test_split(X, y, test_size = 0.25, random_state = 21)\n",
    "\n",
    "# We have to scale the predictors by Feature Scaling\n",
    "scaler = StandardScaler()\n",
    "X_train = scaler.fit_transform(X_train)\n",
    "X_test = scaler.transform(X_test)\n",
    "\n",
    "# Fitting Random Forest Classification to the Training set\n",
    "classifier = RandomForestClassifier(n_estimators = 100, random_state = 42)\n",
    "classifier.fit(X_train, y_train)\n",
    "\n",
    "# Predicting the Test set results\n",
    "y_pred = classifier.predict(X_test)\n",
    "\n",
    "\n",
    "print \" First model('Random Forrest)'s Accuracy:\",metrics.accuracy_score(y_test, y_pred)\n",
    "\n"
   ]
  },
  {
   "cell_type": "code",
   "execution_count": 46,
   "metadata": {},
   "outputs": [
    {
     "name": "stderr",
     "output_type": "stream",
     "text": [
      "No handlers could be found for logger \"matplotlib.legend\"\n"
     ]
    },
    {
     "data": {
      "image/png": "[encoded data removed]",
      "text/plain": [
       "<matplotlib.figure.Figure at 0x10b3d908>"
      ]
     },
     "metadata": {},
     "output_type": "display_data"
    }
   ],
   "source": [
    "#Check out the most important predictors\n",
    "feature_imp = pd.Series(classifier.feature_importances_,index= X.columns).sort_values(ascending=False)\n",
    "feature_imp.head(20)\n",
    "\n",
    "# Creating a bar plot for top 20 features\n",
    "sns.barplot(x=feature_imp.head(20), y=feature_imp.head(20).index)\n",
    "\n",
    "# Add labels to your graph\n",
    "plt.xlabel('Feature Importance Score')\n",
    "plt.ylabel('Features')\n",
    "plt.title(\"Visualizing Important Features\")\n",
    "plt.legend()\n",
    "plt.show()"
   ]
  },
  {
   "cell_type": "markdown",
   "metadata": {},
   "source": [
    "### Make my pipeline to tune hyperparameters"
   ]
  },
  {
   "cell_type": "code",
   "execution_count": 47,
   "metadata": {},
   "outputs": [
    {
     "data": {
      "text/plain": [
       "GridSearchCV(cv=None, error_score='raise',\n",
       "       estimator=Pipeline(memory=None,\n",
       "     steps=[('scaler', StandardScaler(copy=True, with_mean=True, with_std=True)), ('clf', RandomForestClassifier(bootstrap=True, class_weight=None, criterion='gini',\n",
       "            max_depth=None, max_features='auto', max_leaf_nodes=None,\n",
       "            min_impurity_decrease=0.0, min_impurity_split=None,\n",
       "     ...n_jobs=1,\n",
       "            oob_score=False, random_state=None, verbose=0,\n",
       "            warm_start=False))]),\n",
       "       fit_params=None, iid=True, n_jobs=1,\n",
       "       param_grid={'clf__n_estimators': [10, 50, 100]},\n",
       "       pre_dispatch='2*n_jobs', refit=True, return_train_score='warn',\n",
       "       scoring=None, verbose=0)"
      ]
     },
     "execution_count": 47,
     "metadata": {},
     "output_type": "execute_result"
    }
   ],
   "source": [
    "from sklearn.pipeline import Pipeline\n",
    "from sklearn.model_selection import GridSearchCV\n",
    "\n",
    "# Creating the Training and Test set from data\n",
    "X_train, X_test, y_train, y_test = train_test_split(X, y, test_size = 0.25, random_state = 21)\n",
    "\n",
    "#Define my estimators\n",
    "estimators = [('scaler', StandardScaler()),('clf', RandomForestClassifier())]\n",
    "pipe = Pipeline(estimators)\n",
    "\n",
    "#Attributes of named_steps map to keys, can use it for grid search to tune hyperparamters\n",
    "#Use pipe.get_params to see tunable paramters\n",
    "param_grid = {'clf__n_estimators': [10,50,100]}\n",
    "\n",
    "#Cross-validated grid search\n",
    "gs = GridSearchCV(pipe, param_grid = param_grid,refit =True)#Make sure refit is true to ensure that best parameters will be used\n",
    "gs.fit(X_train, y_train)"
   ]
  },
  {
   "cell_type": "code",
   "execution_count": 48,
   "metadata": {},
   "outputs": [
    {
     "name": "stdout",
     "output_type": "stream",
     "text": [
      "Best score: 0.5537459283387622\n"
     ]
    }
   ],
   "source": [
    "# #Results\n",
    "# print '-----------------------------'\n",
    "# best_estimator = gs.best_estimator_\n",
    "# print best_estimator\n",
    "# print '-----------------------------'\n",
    "# best_parameters = gs.best_params_\n",
    "# print best_parameters\n",
    "# print '-----------------------------'\n",
    "best_score = gs.best_score_\n",
    "print 'Best score:', best_score"
   ]
  },
  {
   "cell_type": "code",
   "execution_count": 49,
   "metadata": {},
   "outputs": [],
   "source": [
    "y_pred = gs.predict(X_test)"
   ]
  },
  {
   "cell_type": "code",
   "execution_count": 50,
   "metadata": {},
   "outputs": [
    {
     "data": {
      "text/plain": [
       "0.6384364820846905"
      ]
     },
     "execution_count": 50,
     "metadata": {},
     "output_type": "execute_result"
    }
   ],
   "source": [
    "metrics.accuracy_score(y_test, y_pred)"
   ]
  },
  {
   "cell_type": "code",
   "execution_count": 61,
   "metadata": {},
   "outputs": [
    {
     "name": "stdout",
     "output_type": "stream",
     "text": [
      "Salary: 0 = Low, 1 = medium, 2 = High\n"
     ]
    },
    {
     "data": {
      "image/png": "[encoded data removed]",
      "text/plain": [
       "<matplotlib.figure.Figure at 0x16018668>"
      ]
     },
     "metadata": {},
     "output_type": "display_data"
    }
   ],
   "source": [
    "from sklearn.metrics import confusion_matrix\n",
    "mat = confusion_matrix(y_test, y_pred)\n",
    "sns.heatmap(mat.T, square =True, annot =True, fmt = 'd',cbar =False)\n",
    "plt.xlabel('true_salary')\n",
    "plt.ylabel('predicted salary');\n",
    "plt.title('Confusion Matrix for Salary')\n",
    "\n",
    "print 'Salary: 0 = Low, 1 = medium, 2 = High'"
   ]
  },
  {
   "cell_type": "markdown",
   "metadata": {},
   "source": [
    "### {CONCLUSION}\n",
    "-  While we are not able to get a good model for regression, we have an average model for the classifcation of categories of salary**\n",
    "\n",
    "-  I believe that our models are not doing well due to the small datasets\n",
    "\n",
    "- Hence we should consider getting more data\n"
   ]
  },
  {
   "cell_type": "markdown",
   "metadata": {},
   "source": [
    "## QUESTION 2: Factors that distinguish job category\n",
    "- I am interested to know what factors differentiates between an anaylst or a scientist in the field of data!"
   ]
  },
  {
   "cell_type": "markdown",
   "metadata": {},
   "source": [
    "**Prepare my data**"
   ]
  },
  {
   "cell_type": "code",
   "execution_count": 62,
   "metadata": {},
   "outputs": [
    {
     "name": "stdout",
     "output_type": "stream",
     "text": [
      "Analyst in Title: 346\n",
      "Scientist in Title: 91\n",
      "Either in Title: 433\n"
     ]
    }
   ],
   "source": [
    "A_count = df[df['Title'].str.contains('Analyst')]['Title'].count()\n",
    "print  'Analyst in Title:', A_count\n",
    "\n",
    "S_count = df[df['Title'].str.contains('Scientist')]['Title'].count()\n",
    "print 'Scientist in Title:', S_count\n",
    "\n",
    "#Check if there are overlaps\n",
    "S_A_count = df[df['Title'].str.contains('Scientist|Analyst')]['Title'].count()\n",
    "print 'Either in Title:', S_A_count"
   ]
  },
  {
   "cell_type": "code",
   "execution_count": 63,
   "metadata": {},
   "outputs": [
    {
     "name": "stderr",
     "output_type": "stream",
     "text": [
      "C:\\Users\\Tan Kian How\\Anaconda2\\lib\\site-packages\\pandas\\core\\indexing.py:537: SettingWithCopyWarning: \n",
      "A value is trying to be set on a copy of a slice from a DataFrame.\n",
      "Try using .loc[row_indexer,col_indexer] = value instead\n",
      "\n",
      "See the caveats in the documentation: http://pandas.pydata.org/pandas-docs/stable/indexing.html#indexing-view-versus-copy\n",
      "  self.obj[item] = s\n"
     ]
    }
   ],
   "source": [
    "#Make this into our new df\n",
    "S_A_df = df[df['Title'].str.contains('Scientist|Analyst')]\n",
    "\n",
    "#Convert to Analyst or Scientist\n",
    "S_A_df.loc[S_A_df['Title'].str.contains(('Scientist')),'Title'] = 'Scientist'\n",
    "S_A_df.loc[S_A_df['Title'].str.contains(('Analyst')),'Title'] = 'Analyst'"
   ]
  },
  {
   "cell_type": "markdown",
   "metadata": {},
   "source": [
    "**Define my X(Count vectorized Requirments) and y(Scientist or Analyst)**"
   ]
  },
  {
   "cell_type": "code",
   "execution_count": 64,
   "metadata": {},
   "outputs": [
    {
     "name": "stdout",
     "output_type": "stream",
     "text": [
      "Unique titles ['Analyst' 'Scientist']\n"
     ]
    },
    {
     "data": {
      "image/png": "[encoded data removed]",
      "text/plain": [
       "<matplotlib.figure.Figure at 0x162d85f8>"
      ]
     },
     "metadata": {},
     "output_type": "display_data"
    },
    {
     "name": "stderr",
     "output_type": "stream",
     "text": [
      "C:\\Users\\Tan Kian How\\Anaconda2\\lib\\site-packages\\ipykernel_launcher.py:15: SettingWithCopyWarning: \n",
      "A value is trying to be set on a copy of a slice from a DataFrame.\n",
      "Try using .loc[row_indexer,col_indexer] = value instead\n",
      "\n",
      "See the caveats in the documentation: http://pandas.pydata.org/pandas-docs/stable/indexing.html#indexing-view-versus-copy\n",
      "  from ipykernel import kernelapp as app\n"
     ]
    },
    {
     "name": "stdout",
     "output_type": "stream",
     "text": [
      "(433L, 1000L)\n"
     ]
    },
    {
     "data": {
      "image/png": "[encoded data removed]",
      "text/plain": [
       "<matplotlib.figure.Figure at 0xc0f1d30>"
      ]
     },
     "metadata": {},
     "output_type": "display_data"
    }
   ],
   "source": [
    "#Check if there are other scientist and analyst in title column\n",
    "print 'Unique titles', S_A_df['Title'].unique()\n",
    "\n",
    "#Plot \n",
    "plot =  S_A_df['Title'].value_counts()\n",
    "fig, ax = plt.subplots()\n",
    "g = sns.barplot(plot.index, plot.values)\n",
    "\n",
    "plt.title('Scientist vs Analyst (y)')\n",
    "plt.xlabel('Title')\n",
    "plt.ylabel('Counts')\n",
    "plt.show();\n",
    "\n",
    "#Convert to 1s and 0s \n",
    "S_A_df['Title'] = S_A_df['Title'].apply(lambda x: 1 if x == 'Scientist' else 0)\n",
    "\n",
    "#Count vectorize requirements\n",
    "Req_cvec = CountVectorizer(S_A_df['Requirements'],)\n",
    "\n",
    "#initilaize\n",
    "my_additional_stop_words =('responsibilities','roles','requirements')\n",
    "Req_cvec = CountVectorizer(stop_words = text.ENGLISH_STOP_WORDS.union(my_additional_stop_words),ngram_range = (1,2),max_features = 1000)\n",
    "\n",
    "#Fit and return a matrix using 'todense'\n",
    "Req_cvec.fit(S_A_df['Requirements'])\n",
    "Req_cvec_matrix = Req_cvec.transform(S_A_df['Requirements']).todense()\n",
    "\n",
    "#return features_names\n",
    "Req_cvec_columns = Req_cvec.get_feature_names()\n",
    "\n",
    "#Make into a dataframe\n",
    "print Req_cvec_matrix.shape\n",
    "Req_df = pd.DataFrame(Req_cvec_matrix, columns = Req_cvec_columns)\n",
    "\n",
    "#Check to see most frequent words\n",
    "most_frequent_words = Req_df.sum().sort_values(ascending =False).head(25)\n",
    "#print most_frequent_words\n",
    "\n",
    "#Plot top  25\n",
    "plot = pd.DataFrame(most_frequent_words)\n",
    "fig, ax = plt.subplots(figsize=(11,6))\n",
    "g = sns.barplot(plot.index, plot[0])\n",
    "g.set_xticklabels(g.get_xticklabels(), rotation=45)\n",
    "plt.title('Top 25 words in Requirements(Subset of X)')\n",
    "plt.xlabel('Requirements')\n",
    "plt.ylabel('Counts')\n",
    "plt.show();"
   ]
  },
  {
   "cell_type": "code",
   "execution_count": 65,
   "metadata": {},
   "outputs": [
    {
     "data": {
      "image/png": "[encoded data removed]",
      "text/plain": [
       "<matplotlib.figure.Figure at 0xd84b358>"
      ]
     },
     "metadata": {},
     "output_type": "display_data"
    },
    {
     "name": "stdout",
     "output_type": "stream",
     "text": [
      " 'Random Forrest's Accuracy: 0.9541284403669725\n"
     ]
    }
   ],
   "source": [
    "# Use random forest as they deal well with imbalanced classes\n",
    "#Define my X and y\n",
    "X = Req_df\n",
    "y = S_A_df['Title']\n",
    "\n",
    "# Creating the Training and Test set from data\n",
    "X_train, X_test, y_train, y_test = train_test_split(X, y, test_size = 0.25, random_state = 21)\n",
    "\n",
    "# We have to scale the predictors by Feature Scaling\n",
    "scaler = StandardScaler()\n",
    "X_train = scaler.fit_transform(X_train)\n",
    "X_test = scaler.transform(X_test)\n",
    "\n",
    "# Fitting Random Forest Classification to the Training set\n",
    "classifier = RandomForestClassifier(n_estimators = 100, random_state = 42)\n",
    "classifier.fit(X_train, y_train)\n",
    "\n",
    "# Predicting the Test set results\n",
    "y_pred = classifier.predict(X_test)\n",
    "\n",
    "\n",
    "#Check out the most important predictors\n",
    "feature_imp = pd.Series(classifier.feature_importances_,index= X.columns).sort_values(ascending=False)\n",
    "feature_imp.head(20)\n",
    "\n",
    "# Creating a bar plot for top 20 features\n",
    "sns.barplot(x=feature_imp.head(20), y=feature_imp.head(20).index)\n",
    "\n",
    "# Add labels to your graph\n",
    "plt.xlabel('Feature Importance Score')\n",
    "plt.ylabel('Features')\n",
    "plt.title(\"Visualizing Important Features\")\n",
    "plt.legend()\n",
    "plt.show()\n",
    "\n",
    "\n",
    "print \" 'Random Forrest's Accuracy:\",metrics.accuracy_score(y_test, y_pred)"
   ]
  },
  {
   "cell_type": "markdown",
   "metadata": {},
   "source": [
    "** It would seem that these features were useful for the classification task at hand**"
   ]
  },
  {
   "cell_type": "code",
   "execution_count": 66,
   "metadata": {},
   "outputs": [
    {
     "name": "stdout",
     "output_type": "stream",
     "text": [
      "             precision    recall  f1-score   support\n",
      "\n",
      "          0       0.97      0.98      0.97        87\n",
      "          1       0.90      0.86      0.88        22\n",
      "\n",
      "avg / total       0.95      0.95      0.95       109\n",
      "\n"
     ]
    }
   ],
   "source": [
    "from sklearn.metrics import classification_report\n",
    "print classification_report(y_test, y_pred)"
   ]
  },
  {
   "cell_type": "code",
   "execution_count": 67,
   "metadata": {},
   "outputs": [
    {
     "data": {
      "image/png": "[encoded data removed]",
      "text/plain": [
       "<matplotlib.figure.Figure at 0x165db198>"
      ]
     },
     "metadata": {},
     "output_type": "display_data"
    }
   ],
   "source": [
    "from sklearn.metrics import roc_auc_score\n",
    "from sklearn.metrics import roc_curve\n",
    "RF_auc = roc_auc_score(y_test, y_pred)\n",
    "fpr, tpr, thresholds = roc_curve(y_test, classifier.predict_proba(X_test)[:,1])\n",
    "plt.figure()\n",
    "plt.plot(fpr, tpr, label='Random forrest (area = %0.2f)' % RF_auc)\n",
    "plt.plot([0, 1], [0, 1],'r--')\n",
    "plt.xlim([0.0, 1.0])\n",
    "plt.ylim([0.0, 1.05])\n",
    "plt.xlabel('False Positive Rate')\n",
    "plt.ylabel('True Positive Rate')\n",
    "plt.title('Receiver operating characteristic')\n",
    "plt.legend(loc=\"lower right\")\n",
    "plt.savefig('RF_ROC')\n",
    "plt.show()"
   ]
  },
  {
   "cell_type": "markdown",
   "metadata": {},
   "source": [
    "### {CONCLUSION}:\n",
    "-  Random Forrest was effective in predicting if a job category was more scientist or more anaylst\n",
    "-  We also found features which were important in our classifier\n",
    "-  If i had more time, I would try to intepret which feature contributes to whther a job description was used to predict Scientist or Analyst(Maybe using tree classifier)\n",
    "- I might also try some boosting techniques"
   ]
  },
  {
   "cell_type": "code",
   "execution_count": null,
   "metadata": {},
   "outputs": [],
   "source": []
  }
 ],
 "metadata": {
  "kernelspec": {
   "display_name": "Python 2",
   "language": "python",
   "name": "python2"
  },
  "language_info": {
   "codemirror_mode": {
    "name": "ipython",
    "version": 2
   },
   "file_extension": ".py",
   "mimetype": "text/x-python",
   "name": "python",
   "nbconvert_exporter": "python",
   "pygments_lexer": "ipython2",
   "version": "2.7.14"
  }
 },
 "nbformat": 4,
 "nbformat_minor": 2
}
